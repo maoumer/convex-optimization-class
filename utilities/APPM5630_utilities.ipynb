{
  "nbformat": 4,
  "nbformat_minor": 0,
  "metadata": {
    "colab": {
      "name": "APPM5630_utilities.ipynb",
      "provenance": [],
      "collapsed_sections": [],
      "authorship_tag": "ABX9TyPgL2d2d6VrfpJyBfD3YYSZ",
      "include_colab_link": true
    },
    "kernelspec": {
      "name": "python3",
      "display_name": "Python 3"
    },
    "language_info": {
      "name": "python"
    }
  },
  "cells": [
    {
      "cell_type": "markdown",
      "metadata": {
        "id": "view-in-github",
        "colab_type": "text"
      },
      "source": [
        "<a href=\"https://colab.research.google.com/github/stephenbeckr/convex-optimization-class/blob/master/utilities/APPM5630_utilities.ipynb\" target=\"_parent\"><img src=\"https://colab.research.google.com/assets/colab-badge.svg\" alt=\"Open In Colab\"/></a>"
      ]
    },
    {
      "cell_type": "markdown",
      "metadata": {
        "id": "Hc3HdjR4FbTG"
      },
      "source": [
        "# Example driver for using the Python utilities\n",
        "\n",
        "Shows how to use `firstOrderMethods` in the [`utilities`](https://github.com/stephenbeckr/convex-optimization-class/tree/master/utilities) folder on github\n",
        "\n",
        "Can be used for HW 10\n",
        "\n",
        "Stephen Becker for APPM 5630 Advanced Convex Optimization, CU Boulder"
      ]
    },
    {
      "cell_type": "code",
      "metadata": {
        "id": "5tUsmAmH7wUd"
      },
      "source": [
        "import numpy as np\n",
        "from numpy.linalg import norm\n",
        "import cvxpy as cvx\n",
        "\n",
        "from matplotlib import pyplot as plt\n",
        "import matplotlib as mpl\n",
        "mpl.rcParams[\"figure.figsize\"] = [8,6] # or 7, 4 or 10,8\n",
        "mpl.rcParams[\"lines.linewidth\"] = 2\n",
        "mpl.rcParams[\"lines.markersize\"] = 4\n",
        "mpl.rcParams['mathtext.fontset'] = 'cm'\n",
        "mpl.rcParams.update({'font.size': 20})"
      ],
      "execution_count": 3,
      "outputs": []
    },
    {
      "cell_type": "code",
      "metadata": {
        "colab": {
          "base_uri": "https://localhost:8080/"
        },
        "id": "3WnU25F1CGyj",
        "outputId": "5835858d-f63c-4fd5-89ba-b318fe7370ab"
      },
      "source": [
        "!wget -nv 'https://github.com/stephenbeckr/convex-optimization-class/raw/master/utilities/firstOrderMethods.py'\n",
        "\n",
        "from firstOrderMethods import gradientDescent, lassoSolver, createTestProblem, runAllTestProblems"
      ],
      "execution_count": 2,
      "outputs": [
        {
          "output_type": "stream",
          "text": [
            "2021-04-01 15:33:04 URL:https://raw.githubusercontent.com/stephenbeckr/convex-optimization-class/master/utilities/firstOrderMethods.py [19169/19169] -> \"firstOrderMethods.py.3\" [1]\n"
          ],
          "name": "stdout"
        }
      ]
    },
    {
      "cell_type": "code",
      "metadata": {
        "colab": {
          "base_uri": "https://localhost:8080/",
          "height": 535
        },
        "id": "POclfXX0-M-d",
        "outputId": "0df8af42-0315-41c2-bd18-c061294ce2d0"
      },
      "source": [
        "# Try some test problems\n",
        "problemNumber = 2\n",
        "rng = np.random.default_rng(1)\n",
        "if problemNumber == 1:\n",
        "  prob = createTestProblem( 'quadratic', rng=rng )\n",
        "  xTrue = prob['xTrue']\n",
        "  errFcn= lambda x : norm(x-xTrue)/norm(xTrue)\n",
        "  x0  = np.zeros(prob['n'])\n",
        "  L   = prob['L']\n",
        "  xNew, data = gradientDescent(prob['f'],prob['grad'],x0,stepsize=1/L,printEvery=None,\n",
        "                  errorFunction = errFcn, tol=1e-15, saveHistory=True, \n",
        "                  linesearch = True,acceleration=True,restart=100,maxIters=2000)\n",
        "elif problemNumber == 2:\n",
        "  prob = createTestProblem( 'lasso', rng=rng )\n",
        "  xTrue = prob['xTrue']\n",
        "  errFcn= lambda x : norm(x-xTrue)/norm(xTrue)\n",
        "  x0  = np.zeros(prob['n'])\n",
        "  L   = prob['L']\n",
        "  xNew, data = gradientDescent(prob['f'],prob['grad'],x0,prox=prob['prox'],\n",
        "                  prox_obj=prob['prox_obj'], stepsize=1/L,printEvery=None,\n",
        "                  errorFunction = errFcn, tol=1e-20, saveHistory=True, \n",
        "                  linesearch=True,acceleration=False,restart=50,c=1e-6)\n",
        "elif problemNumber == 3:\n",
        "  prob = createTestProblem( 'logistic', rng=rng )\n",
        "  xTrue = prob['xTrue']\n",
        "  errFcn= lambda x : norm(x-xTrue)/norm(xTrue)\n",
        "  x0  = np.zeros(prob['n'])\n",
        "  L   = prob['L']\n",
        "  xNew, data = gradientDescent(prob['f'],prob['grad'],x0,\n",
        "                  stepsize=1/L,printEvery=None,maxIters=None,\n",
        "                  errorFunction = errFcn, tol=1e-20, saveHistory=True, \n",
        "                  linesearch=True,acceleration=True,restart=None)\n",
        "\n",
        "## Plot the results\n",
        "plt.semilogy( data['errHistory'], '-', label='Error $\\|x-x^\\star\\|/\\|x^\\star\\|$')\n",
        "plt.semilogy(  data['fcnHistory']-prob['fTrue'] , '-', label='$f(x)-f^\\star$')\n",
        "# plt.plot( data['fcnHistory']-prob['fTrue'], '-', label='$f(x)-f^\\star$')\n",
        "plt.grid(True)\n",
        "plt.xlabel('Iterations')\n",
        "plt.legend()\n",
        "plt.title(prob['name'])\n",
        "plt.show()"
      ],
      "execution_count": 5,
      "outputs": [
        {
          "output_type": "stream",
          "text": [
            "Creating test problem for problem type lasso\n",
            "Iter.  Objective Stepsize  Error\n",
            "-----  --------- --------  -------\n",
            "    0  2.25e+00  2.47e-02  7.97e-01\n",
            "Iter 163 Quitting due to stagnating objective value\n",
            "  163  2.08e+00  1.28e-01  2.70e-06\n"
          ],
          "name": "stdout"
        },
        {
          "output_type": "display_data",
          "data": {
            "image/png": "[encoded data removed]",
            "text/plain": [
              "<Figure size 576x432 with 1 Axes>"
            ]
          },
          "metadata": {
            "tags": [],
            "needs_background": "light"
          }
        }
      ]
    },
    {
      "cell_type": "code",
      "metadata": {
        "colab": {
          "base_uri": "https://localhost:8080/"
        },
        "id": "ka8XrGyNxrGh",
        "outputId": "e5ce5322-47d0-4106-ed49-56fd5232fc97"
      },
      "source": [
        "# Test out the lasso solver\n",
        "rng = np.random.default_rng(1)\n",
        "prob = createTestProblem( 'lasso', rng=rng )\n",
        "xTrue = prob['xTrue']\n",
        "errFcn= lambda x : norm(x-xTrue)/norm(xTrue)\n",
        "x0  = np.zeros(prob['n'])\n",
        "xNew, data = lassoSolver(prob['A'],prob['b'],prob['tau'],errorFunction=errFcn,\n",
        "                         linesearch=True,acceleration=True,tol=1e-18,restart=100)\n",
        "      \n",
        "print(f\"Error in x: {errFcn(xNew):.2e}, after {data['steps']} steps\")"
      ],
      "execution_count": 4,
      "outputs": [
        {
          "output_type": "stream",
          "text": [
            "Creating test problem for problem type lasso\n",
            "10\n",
            "Reached tolerance after 3 iterations.\n",
            "Iter.  Objective Stepsize  Error\n",
            "-----  --------- --------  -------\n",
            "    0  9.35e+01  2.06e-02  6.47e+00\n",
            "Iter 212 Quitting due to stagnating objective value\n",
            "  212  2.08e+00  5.35e-02  2.70e-06\n",
            "Error in x: 2.70e-06, after 212 steps\n"
          ],
          "name": "stdout"
        }
      ]
    },
    {
      "cell_type": "code",
      "metadata": {
        "colab": {
          "base_uri": "https://localhost:8080/"
        },
        "id": "o12Tw9YICZvw",
        "outputId": "1df9b410-1449-47fd-a4a7-e0f8d83046d4"
      },
      "source": [
        "runAllTestProblems()"
      ],
      "execution_count": 6,
      "outputs": [
        {
          "output_type": "stream",
          "text": [
            "================================================================================\n",
            "Creating test problem for problem type 0\n",
            "Problem type: quadratic (underdetermined)\n",
            "\n",
            "  (Linesearch: False  Nesterov acceleration: False )\n",
            "  Error in x: 1.91e-06, after 5297 steps\n",
            "\n",
            "  (Linesearch: False  Nesterov acceleration: True )\n",
            "  Error in x: 5.88e-08, after 485 steps\n",
            "\n",
            "  (Linesearch: True  Nesterov acceleration: False )\n",
            "  Error in x: 1.03e-05, after 2198 steps\n",
            "\n",
            "  (Linesearch: True  Nesterov acceleration: True )\n",
            "  Error in x: 1.02e-07, after 474 steps\n",
            "\n",
            "================================================================================\n",
            "Creating test problem for problem type 1\n",
            "Problem type: lasso\n",
            "\n",
            "  (Linesearch: False  Nesterov acceleration: False )\n",
            "  Error in x: 9.90e-07, after 291 steps\n",
            "\n",
            "  (Linesearch: False  Nesterov acceleration: True )\n",
            "  Error in x: 1.37e-06, after 197 steps\n",
            "\n",
            "  (Linesearch: True  Nesterov acceleration: False )\n",
            "  Error in x: 2.89e-07, after 56 steps\n",
            "\n",
            "  (Linesearch: True  Nesterov acceleration: True )\n",
            "  Error in x: 7.37e-07, after 81 steps\n",
            "\n",
            "================================================================================\n",
            "Creating test problem for problem type 2\n",
            "Problem type: logistic\n",
            "\n",
            "  (Linesearch: False  Nesterov acceleration: False )\n",
            "  Error in x: 2.56e-01, after 10000 steps\n",
            "\n",
            "  (Linesearch: False  Nesterov acceleration: True )\n",
            "  Error in x: 2.35e-03, after 10000 steps\n",
            "\n",
            "  (Linesearch: True  Nesterov acceleration: False )\n",
            "  Error in x: 8.33e-09, after 110 steps\n",
            "\n",
            "  (Linesearch: True  Nesterov acceleration: True )\n",
            "  Error in x: 1.77e-08, after 116 steps\n",
            "\n"
          ],
          "name": "stdout"
        }
      ]
    }
  ]
}