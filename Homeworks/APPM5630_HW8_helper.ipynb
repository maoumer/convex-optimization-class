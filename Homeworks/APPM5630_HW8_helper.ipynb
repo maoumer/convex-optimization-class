{
  "nbformat": 4,
  "nbformat_minor": 0,
  "metadata": {
    "colab": {
      "name": "APPM5630_HW8_helper.ipynb",
      "provenance": [],
      "collapsed_sections": [],
      "authorship_tag": "ABX9TyNJ3Jgf0vMyylm9Ys7vGo9d",
      "include_colab_link": true
    },
    "kernelspec": {
      "name": "python3",
      "display_name": "Python 3"
    }
  },
  "cells": [
    {
      "cell_type": "markdown",
      "metadata": {
        "id": "view-in-github",
        "colab_type": "text"
      },
      "source": [
        "<a href=\"https://colab.research.google.com/github/stephenbeckr/convex-optimization-class/blob/master/Homeworks/APPM5630_HW8_helper.ipynb\" target=\"_parent\"><img src=\"https://colab.research.google.com/assets/colab-badge.svg\" alt=\"Open In Colab\"/></a>"
      ]
    },
    {
      "cell_type": "markdown",
      "metadata": {
        "id": "Bu0MHrhPqjBW"
      },
      "source": [
        "# How to get the history of function values?\n",
        "\n",
        "For HW 8, you'll make a function and give it to a `scipy` or other standard solver, and then you want to plot the history of all function evaluations.  Sometimes solvers save this for you, sometimes they don't.\n",
        "\n",
        "Here's one way to save that information in case the solver doesn't save it for you.  We'll assume that `mySimpleSolver` is some builtin solver to a package, and that you *cannot modify it* easily. So we need to find another way to save the information.\n",
        "\n",
        "The trick is to essentially use a global variable, but we can make it a bit nicer to at least hiding that variable inside a [class](https://www.programiz.com/python-programming/class)."
      ]
    },
    {
      "cell_type": "code",
      "metadata": {
        "colab": {
          "base_uri": "https://localhost:8080/"
        },
        "id": "QvB6bhnMntWY",
        "outputId": "65478ded-2ba9-4dfb-c62d-7cd46b9b040a"
      },
      "source": [
        "import numpy as np\n",
        "\n",
        "def mySimpleSolver(f,x0,maxIters=13):\n",
        "  x = np.asarray(x0,dtype='float64').copy()\n",
        "  for k in range(maxIters):\n",
        "    fx = f(x)\n",
        "    x -= .001*x  # some weird update rule, just to make something interesting happen\n",
        "  return x\n",
        "\n",
        "# Let's solve this in 1D\n",
        "f = lambda x : x**2\n",
        "\n",
        "x = mySimpleSolver( f, 1 )\n",
        "print(x)\n",
        "\n",
        "# ... of course this isn't a real solver, so it won't converge to the right answer\n",
        "# But anyhow, how can we see the history of function values?"
      ],
      "execution_count": 7,
      "outputs": [
        {
          "output_type": "stream",
          "text": [
            "0.9870777147137147\n"
          ],
          "name": "stdout"
        }
      ]
    },
    {
      "cell_type": "markdown",
      "metadata": {
        "id": "v_PggpvkrMF5"
      },
      "source": [
        "### One solution\n",
        "Below is one way to use a class to do this\n",
        "\n",
        "I'm not a software developer in python, so there may be much nicer ways, but this ought to be good enough.  There are many variants and extensions you can do, and of course, if you wanted to record some error function (like if you knew the true answer $x^\\star$ and wanted to record $\\|x-x^\\star\\|$ every iteration), you could easily incorporate that too."
      ]
    },
    {
      "cell_type": "code",
      "metadata": {
        "colab": {
          "base_uri": "https://localhost:8080/"
        },
        "id": "hu01Qkazokz7",
        "outputId": "534bca9c-fa98-4bf2-fad8-943dcdde12d5"
      },
      "source": [
        "f = lambda x : x**2\n",
        "\n",
        "class fcn:\n",
        "  def __init__(self):\n",
        "    self.history = []\n",
        "\n",
        "  def evaluate(self,x):\n",
        "    # Whatever objective function you're implementing\n",
        "    # This also sees objective in the parent workspace,\n",
        "    # so you can just call those\n",
        "    fx = f(x)\n",
        "    self.history.append(fx)\n",
        "    return fx\n",
        "  \n",
        "  def reset(self):\n",
        "    self.history = []\n",
        "\n",
        "objective = fcn()\n",
        "F = lambda x : objective.evaluate(x) # alternatively, have your class return a function\n",
        "x = mySimpleSolver( F, 1 )\n",
        "print(x)"
      ],
      "execution_count": 8,
      "outputs": [
        {
          "output_type": "stream",
          "text": [
            "0.9870777147137147\n"
          ],
          "name": "stdout"
        }
      ]
    },
    {
      "cell_type": "markdown",
      "metadata": {
        "id": "XIWUDxDSriVO"
      },
      "source": [
        "... so we see that `mySimpleSolver` didn't have to do anything.  Now to get the information, we just ask for the value of `objective.history` as follows:"
      ]
    },
    {
      "cell_type": "code",
      "metadata": {
        "colab": {
          "base_uri": "https://localhost:8080/"
        },
        "id": "7NlxZupZqY6H",
        "outputId": "6cb3ca0c-c755-461d-9f0c-39ff91b26246"
      },
      "source": [
        "objective.history"
      ],
      "execution_count": 9,
      "outputs": [
        {
          "output_type": "execute_result",
          "data": {
            "text/plain": [
              "[1.0,\n",
              " 0.998001,\n",
              " 0.996005996001,\n",
              " 0.994014980014994,\n",
              " 0.9920279440699441,\n",
              " 0.9900448802097482,\n",
              " 0.9880657804942089,\n",
              " 0.9860906369990011,\n",
              " 0.9841194418156402,\n",
              " 0.9821521870514507,\n",
              " 0.9801888648295347,\n",
              " 0.9782294672887406,\n",
              " 0.9762739865836304]"
            ]
          },
          "metadata": {
            "tags": []
          },
          "execution_count": 9
        }
      ]
    }
  ]
}