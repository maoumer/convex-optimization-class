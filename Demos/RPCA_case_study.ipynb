{
  "cells": [
    {
      "cell_type": "markdown",
      "metadata": {
        "id": "view-in-github",
        "colab_type": "text"
      },
      "source": [
        "<a href=\"https://colab.research.google.com/github/stephenbeckr/convex-optimization-class/blob/master/Demos/RPCA_case_study.ipynb\" target=\"_parent\"><img src=\"https://colab.research.google.com/assets/colab-badge.svg\" alt=\"Open In Colab\"/></a>"
      ]
    },
    {
      "cell_type": "markdown",
      "metadata": {
        "id": "XzewDeFtJ0Sk"
      },
      "source": [
        "# Case study: RPCA\n",
        "\n",
        "In-class challenge: how many different algorithms could you use to solve the RPCA problem?\n",
        "\n",
        "APPM 5630 Adv Convex Optimization, Spring 2023, Professor Stephen Becker\n",
        "\n",
        "**See companion file `RPCA_case_study_solutions.ipynb` for some solutions**"
      ]
    },
    {
      "cell_type": "code",
      "execution_count": null,
      "metadata": {
        "id": "J220FyIlJ0Sm"
      },
      "outputs": [],
      "source": [
        "import numpy as np\n",
        "from scipy import linalg\n",
        "from numpy.linalg import norm\n",
        "from numpy.random import default_rng\n",
        "import cvxpy as cvx\n",
        "%reload_ext autoreload\n",
        "%autoreload 2\n",
        "!wget -nv 'https://github.com/stephenbeckr/convex-optimization-class/raw/master/utilities/firstOrderMethods.py'\n",
        "!wget -nv 'https://github.com/stephenbeckr/convex-optimization-class/raw/master/utilities/secondOrderMethods.py'\n",
        "from firstOrderMethods import gradientDescent, lassoSolver, createTestProblem, runAllTestProblems, DouglasRachford, bookkeeper\n",
        "from secondOrderMethods import NewtonsMethod"
      ]
    },
    {
      "cell_type": "markdown",
      "metadata": {
        "id": "Y7bt9GwyJ0Sn"
      },
      "source": [
        "## The Robust PCA (RPCA) problem\n",
        "$$\\min_{L,S} \\;\\frac12\\|L+S-Y\\|_F^2 + \\lambda_L\\|L\\|_* + \\lambda_S\\|S\\|_1$$\n",
        "where $L,S$ are matrices of the same size; $Y$ is the target matrix that we wish to approximately decompose, $Y \\approx L + S$, into a low-rank part $L$ and a sparse part $S$"
      ]
    },
    {
      "cell_type": "code",
      "execution_count": null,
      "metadata": {
        "id": "J34yB7NTJ0Sn"
      },
      "outputs": [],
      "source": [
        "rng = default_rng(1)\n",
        "m,n = 7,8\n",
        "\n",
        "# for use later\n",
        "def vec(L,S):\n",
        "    return np.concatenate( (L.ravel(), S.ravel() ))\n",
        "def mat( LS ):\n",
        "    L = LS[:m*n].reshape( (m,n ))\n",
        "    S = LS[m*n:].reshape( (m,n ))\n",
        "    return L, S\n",
        "\n",
        "# Generate a \"signal\". Need not be solution to optimization problem\n",
        "rr  = 4\n",
        "LL  = rng.standard_normal( (m,rr) ) @ rng.standard_normal( (rr,n) ) # low-rank\n",
        "SS  = rng.standard_normal( (m,n) )\n",
        "SS[ np.abs(SS) < np.quantile( np.abs(SS), .9 ) ] = 0  # sparse\n",
        "Y   = LL + SS + .01*rng.standard_normal( (m,n) ) # Noisy observations\n",
        "\n",
        "# with np.printoptions(precision=3, suppress=True):\n",
        "#     print(SS)"
      ]
    },
    {
      "cell_type": "markdown",
      "metadata": {
        "id": "V12veQnEJ0So"
      },
      "source": [
        "### Solve in CVXPY for reference solution\n",
        "\n",
        "This is one way to solve: the $\\ell_1$ and nuclear norms can be written in terms of epigraphs of standard cones and such, and then solved via standard methods (IPM, ADMM)"
      ]
    },
    {
      "cell_type": "code",
      "execution_count": null,
      "metadata": {
        "id": "zKP2TClxJ0So",
        "outputId": "1dfe40c1-257e-4076-80e3-86ec0d99fa52"
      },
      "outputs": [
        {
          "name": "stdout",
          "output_type": "stream",
          "text": [
            "[10.374  4.849  2.435  1.788  0.466  0.314  0.   ]\n",
            "[10.373  4.687  2.211  1.507  0.     0.     0.   ]\n",
            "[[ 0.     0.     0.     0.     0.     0.     0.     0.   ]\n",
            " [-1.649  0.     0.     0.     0.     0.     0.     0.   ]\n",
            " [ 0.    -1.482  0.     0.     0.     0.    -1.631  0.   ]\n",
            " [ 0.     0.     0.     0.     0.     0.     0.     0.   ]\n",
            " [ 0.     0.     0.    -2.251  0.     0.     0.     0.   ]\n",
            " [ 0.     0.     0.     0.     0.     0.     0.    -1.514]\n",
            " [ 1.753  0.     0.     0.     0.     0.     0.     0.   ]]\n",
            "[[-0.    -0.    -0.     0.    -0.     0.     0.    -0.   ]\n",
            " [-0.54   0.     0.     0.     0.     0.    -0.     0.   ]\n",
            " [ 0.    -0.61  -0.     0.    -0.     0.    -0.666 -0.   ]\n",
            " [-0.    -0.    -0.    -0.     0.    -0.671 -0.    -0.   ]\n",
            " [ 0.     0.    -0.    -1.694 -0.     0.    -0.     0.   ]\n",
            " [ 0.     0.    -0.    -0.     0.     0.    -0.    -0.912]\n",
            " [ 0.     0.    -0.188  0.     0.    -0.    -0.     0.   ]]\n"
          ]
        }
      ],
      "source": [
        "# Solve in cvxpy\n",
        "L     = cvx.Variable( (m,n) )\n",
        "S     = cvx.Variable( (m,n) )\n",
        "lambdaL = 3e-3\n",
        "lambdaS = 1.7e-3\n",
        "\n",
        "def prox_l1( X, t, lambdaS ):\n",
        "    return np.sign(X)*np.maximum( 0, np.fabs(X) - lambdaS*t )\n",
        "\n",
        "def prox_nuclearNorm( X, t, lambdaL ):\n",
        "   U, s, Vh = linalg.svd(X, full_matrices=False )\n",
        "   s = prox_l1( s, t, lambdaL )\n",
        "   return U@( s.reshape((-1,1))*Vh )\n",
        "\n",
        "def objective_vec( LSvec ):\n",
        "    L,S = mat(LSvec)\n",
        "    resid = norm( L+S - Y)\n",
        "    return resid**2/2 + lambdaL*np.sum( linalg.svdvals(L) ) + lambdaS*norm( S.ravel(), ord=1)\n",
        "obj   = cvx.Minimize( cvx.sum_squares(L+S-Y)/2 + lambdaL*cvx.norm(L, \"nuc\") + lambdaS*cvx.pnorm(S,p=1) )\n",
        "prob  = cvx.Problem(obj)\n",
        "highPrecision = {'solver':cvx.CVXOPT,'max_iters':400,'abstol':1e-11,'reltol':1e-11}\n",
        "prob.solve(**highPrecision)\n",
        "L_CVX = L.value \n",
        "S_CVX = S.value \n",
        "fTrue = prob.value\n",
        "\n",
        "with np.printoptions(precision=3, suppress=True):\n",
        "    print( linalg.svdvals( L_CVX ))\n",
        "    print( linalg.svdvals( LL ) )\n",
        "    print(SS)\n",
        "    print(S_CVX)"
      ]
    },
    {
      "cell_type": "markdown",
      "metadata": {
        "id": "78kJ1UhyJ0Sp"
      },
      "source": [
        "# The algorithms"
      ]
    }
  ],
  "metadata": {
    "kernelspec": {
      "display_name": "base",
      "language": "python",
      "name": "python3"
    },
    "language_info": {
      "codemirror_mode": {
        "name": "ipython",
        "version": 3
      },
      "file_extension": ".py",
      "mimetype": "text/x-python",
      "name": "python",
      "nbconvert_exporter": "python",
      "pygments_lexer": "ipython3",
      "version": "3.9.13"
    },
    "orig_nbformat": 4,
    "colab": {
      "provenance": [],
      "include_colab_link": true
    }
  },
  "nbformat": 4,
  "nbformat_minor": 0
}