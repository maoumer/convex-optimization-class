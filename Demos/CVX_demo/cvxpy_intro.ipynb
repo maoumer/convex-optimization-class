{
  "nbformat": 4,
  "nbformat_minor": 0,
  "metadata": {
    "kernelspec": {
      "display_name": "Python 3",
      "language": "python",
      "name": "python3"
    },
    "language_info": {
      "codemirror_mode": {
        "name": "ipython",
        "version": 3
      },
      "file_extension": ".py",
      "mimetype": "text/x-python",
      "name": "python",
      "nbconvert_exporter": "python",
      "pygments_lexer": "ipython3",
      "version": "3.7.0"
    },
    "colab": {
      "name": "cvxpy_intro.ipynb",
      "provenance": [],
      "include_colab_link": true
    }
  },
  "cells": [
    {
      "cell_type": "markdown",
      "metadata": {
        "id": "view-in-github",
        "colab_type": "text"
      },
      "source": [
        "<a href=\"https://colab.research.google.com/github/stephenbeckr/convex-optimization-class/blob/master/Demos/CVX_demo/cvxpy_intro.ipynb\" target=\"_parent\"><img src=\"https://colab.research.google.com/assets/colab-badge.svg\" alt=\"Open In Colab\"/></a>"
      ]
    },
    {
      "cell_type": "markdown",
      "metadata": {
        "id": "gAFIi8XeUksy"
      },
      "source": [
        "# Introduction to CVXPY\n",
        "CVXPY is a Python-embedded modeling language for (disciplined) convex optimization problems.  Much like CVX in MATLAB, it allows you to express the problem in a natural way that follows the math, instead of expressing the problem in a way that conforms to a specific solver's syntax.\n",
        "\n",
        "  Note: originally written by James Folberth, 2017. Some updates Sept 2018 by Stephen Becker, to work with current cvxpy (ver 1.0) -- not all bugs are fixed though. Updated Jan 2021 and Jan 2023 to work with [Google colab](https://colab.research.google.com/) (which, as of Jan 25 2021, has cvxpy version `1.0.31` pre-installed; update Jan 2023, it has version `1.2.3`), mainly fixing size issues, like `(n,)` vs `(n,1)`.\n",
        "\n",
        "[CVXPY Homepage](http://www.cvxpy.org/)\n",
        "\n",
        "[CVXPY Tutorial Documentation](http://www.cvxpy.org/tutorial/index.html)\n",
        "\n",
        "[CVXPY Examples](http://www.cvxpy.org/examples/index.html)\n",
        "- 2021 update: the [CVXPY Examples](http://www.cvxpy.org/examples/index.html) now have google colab notebooks. Highly recommended!  Look at those in addition to (or instead of) this notebook"
      ]
    },
    {
      "cell_type": "code",
      "metadata": {
        "id": "l0cPJkBxUks3"
      },
      "source": [
        "import numpy as np # we can use np.array to specify problem data\n",
        "import matplotlib.pyplot as plt\n",
        "%matplotlib inline\n",
        "import cvxpy as cvx  # after import, can check version using cvx.__version__"
      ],
      "execution_count": 1,
      "outputs": []
    },
    {
      "cell_type": "markdown",
      "metadata": {
        "id": "LvndfVrHUks3"
      },
      "source": [
        "## Example: Least-Squares Curve Fitting\n",
        "\n"
      ]
    },
    {
      "cell_type": "code",
      "metadata": {
        "scrolled": false,
        "id": "kpAtlt0gUks3",
        "outputId": "8e74f3dd-4a30-4462-9ea3-baf68895f912",
        "colab": {
          "base_uri": "https://localhost:8080/",
          "height": 295
        }
      },
      "source": [
        "x = np.array([-3,  -1, 0,   1, 2])\n",
        "y = np.array([0.5, -1, 1.5, 5, 11])\n",
        "plt.scatter(x,y)\n",
        "plt.xlabel('x'); plt.ylabel('y'); plt.title('Example Data')\n",
        "plt.show()"
      ],
      "execution_count": 3,
      "outputs": [
        {
          "output_type": "display_data",
          "data": {
            "text/plain": [
              "<Figure size 432x288 with 1 Axes>"
            ],
            "image/png": "[encoded data removed]"
          },
          "metadata": {
            "needs_background": "light"
          }
        }
      ]
    },
    {
      "cell_type": "markdown",
      "metadata": {
        "id": "fAcjpcgkUks4"
      },
      "source": [
        "The data look like they follow a quadratic function.  We can set up the following Vandermonde system and use unconstrained least-squares to estimate parameters for a quadratic function.\n",
        "\n",
        "$$A = \\begin{bmatrix}\n",
        "1 & x_0 & x_0^2\\\\\n",
        "1 & x_1 & x_1^2\\\\\n",
        "1 & x_2 & x_2^2\\\\\n",
        "1 & x_3 & x_3^2\\\\\n",
        "1 & x_4 & x_4^2\\\\\n",
        "      \\end{bmatrix}$$\n",
        "      \n",
        "Solving the following least-squares problem for $\\beta$ will give us parameters for a quadratic model:\n",
        "\n",
        "$$\\min_\\beta \\|A\\beta - y\\|_2$$\n",
        "\n",
        "Note that we could easily solve this simple problem with a QR factorization (\\ in MATLAB, `np.linalg.lstsq` in python/numpy)."
      ]
    },
    {
      "cell_type": "code",
      "metadata": {
        "id": "9w4n2YwUUks4",
        "outputId": "51e6907b-2145-4030-d439-cab893adcc12",
        "colab": {
          "base_uri": "https://localhost:8080/"
        }
      },
      "source": [
        "A = np.column_stack((np.ones(5,), x, x**2))\n",
        "\n",
        "# now setup and solve with CVXPY\n",
        "beta = cvx.Variable(3)\n",
        "\n",
        "# CVXPY's norm behaves like np.linalg.norm\n",
        "# obj = cvx.Minimize(cvx.norm(A*beta-y)) # this syntax does not work\n",
        "obj = cvx.Minimize(cvx.norm(A@beta-y))\n",
        "prob = cvx.Problem(obj)\n",
        "\n",
        "# Assuming the problem follows the DCP ruleset,\n",
        "# CVXPY will select a solver and try to solve the problem.\n",
        "# We can check if the problem is a disciplined convex program\n",
        "# with prob.is_dcp().\n",
        "prob.solve()\n",
        "\n",
        "print(\"Problem status: \", prob.status)\n",
        "print(\"Optimal value:  \", prob.value)\n",
        "print(\"Optimal varriables beta:\\n\", beta.value)"
      ],
      "execution_count": 5,
      "outputs": [
        {
          "output_type": "stream",
          "name": "stdout",
          "text": [
            "Problem status:  optimal\n",
            "Optimal value:   0.34962635220491034\n",
            "Optimal varriables beta:\n",
            " [1.23858616 3.01656848 0.92157585]\n"
          ]
        }
      ]
    },
    {
      "cell_type": "markdown",
      "metadata": {
        "id": "ZGef9twbUks5"
      },
      "source": [
        "Let's check the solution to see how we did:"
      ]
    },
    {
      "cell_type": "code",
      "metadata": {
        "id": "lneSp1joUks5",
        "outputId": "ac2b61ad-b3a7-470b-c6ae-ce6e2b7548ac",
        "colab": {
          "base_uri": "https://localhost:8080/",
          "height": 295
        }
      },
      "source": [
        "_beta = beta.value # get the optimal vars\n",
        "_x = np.linspace(x.min(), x.max(), 100)\n",
        "_y = _beta[0]*np.ones_like(_x) + _beta[1]*_x + _beta[2]*_x**2\n",
        "plt.scatter(x,y)\n",
        "plt.plot(_x,_y,'-b')\n",
        "plt.xlabel('x'); plt.ylabel('y'); plt.title('Example Data with Least-Squares Fit')\n",
        "plt.show()"
      ],
      "execution_count": 6,
      "outputs": [
        {
          "output_type": "display_data",
          "data": {
            "text/plain": [
              "<Figure size 432x288 with 1 Axes>"
            ],
            "image/png": "[encoded data removed]"
          },
          "metadata": {
            "needs_background": "light"
          }
        }
      ]
    },
    {
      "cell_type": "markdown",
      "metadata": {
        "id": "zPp-RPWpUks5"
      },
      "source": [
        "## Example: $\\ell_1$-norm minimization\n",
        "\n",
        "Consider the basis pursuit problem\n",
        "\n",
        "$$\\begin{array}{cc} \\text{minimize}& \\|x\\|_1\\\\\\text{subject to} & Ax=y.\\end{array}$$\n",
        "\n",
        "This is a least $\\ell_1$-norm problem that will hopefully yield a sparse solution $x$.\n",
        "\n",
        "We now have an objective, $\\|x\\|_1$, and an equality constraint $Ax=y$."
      ]
    },
    {
      "cell_type": "code",
      "metadata": {
        "id": "74TRMwfQUks6",
        "outputId": "35c18f6f-b172-4143-b529-18abc60f4972",
        "colab": {
          "base_uri": "https://localhost:8080/"
        }
      },
      "source": [
        "# make a bogus sparse solution and RHS\n",
        "m = 200; n = 100;\n",
        "A = np.random.randn(m,n)\n",
        "_x = np.zeros((n,1))  # just using this notation to show that this is something we're going to pretend we don't actually have\n",
        "# _x = np.zeros(n) # better, fewer headaches later, but adjust line 8 too\n",
        "_k = 10\n",
        "_I = np.random.permutation(n)[0:_k]\n",
        "_x[_I] = np.random.randn(_k,1)\n",
        "y = np.dot(A,_x)  # this is (200,1), as is A.dot(_x)\n",
        "\n",
        "# Here's an essential step, change from (200,1) to (200,) size\n",
        "#  if we defined _x=np.zeros((n,1))\n",
        "y = y.ravel()  # https://www.geeksforgeeks.org/differences-flatten-ravel-numpy/\n",
        "\n",
        "x = cvx.Variable(n)   # a bit like sympy.  Shape is (n,) not (n,1)\n",
        "\n",
        "# Even though the cvx.norm function behaves very similarly to\n",
        "# the np.linalg.norm function, we CANNOT use the np.linalg.norm \n",
        "# function on CVXPY objects.  If we do, we'll probably get a strange\n",
        "# error message.\n",
        "obj = cvx.Minimize(cvx.norm(x,1))\n",
        "\n",
        "# specify a list of constraints\n",
        "# constraints = [ A*x == y ]  # A*x is (200,), as is A@x.  This is OK\n",
        "constraints = [ A@x == y ]\n",
        "\n",
        "# constraints = [ A.dot(x) == y ] # No, not OK. This is (200,100). CVXPY issue.\n",
        "\n",
        "# specify and solve the problem\n",
        "prob = cvx.Problem(obj, constraints)\n",
        "prob.solve(verbose=True) # let's see the underlying solver's output\n",
        "\n",
        "print(\"Problem status: \", prob.status)\n",
        "print(\"Optimal value:  \", prob.value)\n",
        "\n",
        "print(\"True nonzero inds:      \", sorted(_I))\n",
        "print(\"Recovered nonzero inds: \", sorted(np.where(abs(x.value) > 1e-14)[0]))\n",
        "# Note: we cannot access \"x\", we need to do \"x.value\"\n",
        "#   (also, turn _x to right shape)\n",
        "err = np.linalg.norm(x.value -_x.ravel())\n",
        "print(f'Norm of error, ||x-x_est|| is {err:e}')"
      ],
      "execution_count": 7,
      "outputs": [
        {
          "output_type": "stream",
          "name": "stdout",
          "text": [
            "===============================================================================\n",
            "                                     CVXPY                                     \n",
            "                                     v1.2.3                                    \n",
            "===============================================================================\n",
            "(CVXPY) Jan 26 08:03:07 PM: Your problem has 100 variables, 1 constraints, and 0 parameters.\n",
            "(CVXPY) Jan 26 08:03:07 PM: It is compliant with the following grammars: DCP, DQCP\n",
            "(CVXPY) Jan 26 08:03:07 PM: (If you need to solve this problem multiple times, but with different data, consider using parameters.)\n",
            "(CVXPY) Jan 26 08:03:07 PM: CVXPY will first compile your problem; then, it will invoke a numerical solver to obtain a solution.\n",
            "-------------------------------------------------------------------------------\n",
            "                                  Compilation                                  \n",
            "-------------------------------------------------------------------------------\n",
            "(CVXPY) Jan 26 08:03:07 PM: Compiling problem (target solver=ECOS).\n",
            "(CVXPY) Jan 26 08:03:07 PM: Reduction chain: Dcp2Cone -> CvxAttr2Constr -> ConeMatrixStuffing -> ECOS\n",
            "(CVXPY) Jan 26 08:03:07 PM: Applying reduction Dcp2Cone\n",
            "(CVXPY) Jan 26 08:03:07 PM: Applying reduction CvxAttr2Constr\n",
            "(CVXPY) Jan 26 08:03:07 PM: Applying reduction ConeMatrixStuffing\n",
            "(CVXPY) Jan 26 08:03:07 PM: Applying reduction ECOS\n",
            "(CVXPY) Jan 26 08:03:07 PM: Finished problem compilation (took 5.566e-02 seconds).\n",
            "-------------------------------------------------------------------------------\n",
            "                                Numerical solver                               \n",
            "-------------------------------------------------------------------------------\n",
            "(CVXPY) Jan 26 08:03:07 PM: Invoking solver ECOS  to obtain a solution.\n",
            "-------------------------------------------------------------------------------\n",
            "                                    Summary                                    \n",
            "-------------------------------------------------------------------------------\n",
            "(CVXPY) Jan 26 08:03:07 PM: Problem status: optimal\n",
            "(CVXPY) Jan 26 08:03:07 PM: Optimal value: 8.683e+00\n",
            "(CVXPY) Jan 26 08:03:07 PM: Compilation took 5.566e-02 seconds\n",
            "(CVXPY) Jan 26 08:03:07 PM: Solver (including time spent in interface) took 3.980e-02 seconds\n",
            "Problem status:  optimal\n",
            "Optimal value:   8.683258916729915\n",
            "True nonzero inds:       [13, 20, 23, 37, 44, 56, 60, 80, 83, 96]\n",
            "Recovered nonzero inds:  [13, 20, 23, 37, 44, 56, 60, 80, 83, 96]\n",
            "Norm of error, ||x-x_est|| is 1.339427e-15\n"
          ]
        }
      ]
    },
    {
      "cell_type": "markdown",
      "metadata": {
        "id": "9XhvV5owUks6"
      },
      "source": [
        "## Example: Relaxation of Boolean LP\n",
        "Consider the Boolean linear program\n",
        "\n",
        "$$\\begin{array}{cl} \\text{minimize} & c^Tx\\\\\\text{subject to} & Ax \\preceq b\\\\ & x_i \\in\\{0,1\\}, \\quad i=1,...,n.\\end{array}$$\n",
        "\n",
        "Note: the generalized inequality $\\preceq$ is just element-wise $\\le$ on vectors.\n",
        "\n",
        "This is not a convex problem, but we can relax it to a linear program and hope that a solution to the relaxed, convex problem is \"close\" to a solution to the original Boolean LP.  A relaxation of the Boolean LP is the following LP:\n",
        "\n",
        "$$\\begin{array}{cl} \\text{minimize} & c^Tx\\\\\\text{subject to} & Ax \\preceq b\\\\ & \\mathbf{0} \\preceq x \\preceq \\mathbf{1}.\\end{array}$$\n",
        "\n",
        "The relaxed solution $x^\\text{rlx}$ can be used to guess a Boolean point $\\hat{x}$ by rounding based on a threshold $t\\in[0,1]$:\n",
        "\n",
        "$$ \\hat{x}_i = \\left\\{\\begin{array}{cc} 1 & x_i^\\text{rlx} \\ge t\\\\0 & \\text{otherwise,}\\end{array}\\right. $$ \n",
        "\n",
        "for $i=1,...,n$.  However, the Boolean point $\\hat{x}$ might not satisfy $Ax\\preceq b$ (i.e., $\\hat{x}$ might be infeasible).\n",
        "\n",
        "From Boyd and Vandenberghe:\n",
        "> You can think of $x_i$ as a job we either accept or decline, and $-c_i$ as the (positive) revenue we generate if we accept job $i$.  We can think of $Ax\\preceq b$ as a set of limits on $m$ resources.  $A_{ij}$, which is positive, is the amount of resource $i$ consumed if we accept job $j$; $b_i$, which is positive, is the amount of recourse $i$ available."
      ]
    },
    {
      "cell_type": "code",
      "metadata": {
        "id": "WfOwgIddUks7",
        "outputId": "b6219d8c-4c9c-4d59-88f7-7a0658102626",
        "colab": {
          "base_uri": "https://localhost:8080/",
          "height": 492
        }
      },
      "source": [
        "m = 300; n = 100;\n",
        "A = np.random.rand(m,n)\n",
        "# b = A.dot(np.ones((n,1)))/2.\n",
        "# c = -np.random.rand(n,1)\n",
        "b = A.dot(np.ones((n)))/2.\n",
        "c = -np.random.rand(n)\n",
        "\n",
        "x_rlx = cvx.Variable(n)\n",
        "obj = cvx.Minimize(c.T*x_rlx) # deprecated\n",
        "# obj = cvx.Minimize(c.T@x_rlx) # preferred way\n",
        "constraints = [ A@x_rlx <= b,\n",
        "                0 <= x_rlx, \n",
        "                x_rlx <= 1 ]\n",
        "\n",
        "prob = cvx.Problem(obj, constraints)\n",
        "prob.solve()\n",
        "\n",
        "print(\"Problem status: \", prob.status)\n",
        "print(\"Optimal value:  \", prob.value)\n",
        "\n",
        "plt.hist(x_rlx.value)\n",
        "plt.xlabel('x_rlx'); plt.ylabel('Count')\n",
        "plt.title('Histogram of elements of x_rlx')\n",
        "plt.show()"
      ],
      "execution_count": 11,
      "outputs": [
        {
          "output_type": "stream",
          "name": "stderr",
          "text": [
            "/usr/local/lib/python3.8/dist-packages/cvxpy/expressions/expression.py:593: UserWarning: \n",
            "This use of ``*`` has resulted in matrix multiplication.\n",
            "Using ``*`` for matrix multiplication has been deprecated since CVXPY 1.1.\n",
            "    Use ``*`` for matrix-scalar and vector-scalar multiplication.\n",
            "    Use ``@`` for matrix-matrix and matrix-vector multiplication.\n",
            "    Use ``multiply`` for elementwise multiplication.\n",
            "This code path has been hit 4 times so far.\n",
            "\n",
            "  warnings.warn(msg, UserWarning)\n"
          ]
        },
        {
          "output_type": "stream",
          "name": "stdout",
          "text": [
            "Problem status:  optimal\n",
            "Optimal value:   -32.781741310790224\n"
          ]
        },
        {
          "output_type": "display_data",
          "data": {
            "text/plain": [
              "<Figure size 432x288 with 1 Axes>"
            ],
            "image/png": "[encoded data removed]"
          },
          "metadata": {
            "needs_background": "light"
          }
        }
      ]
    },
    {
      "cell_type": "markdown",
      "metadata": {
        "id": "PlVahb_cUks7"
      },
      "source": [
        "## Example: Minimum Volume Ellipsoid\n",
        "Sometimes an example is particularly hard and we might need to adjust solver options, or use a different solver.\n",
        "\n",
        "Consider the problem of finding the minimum volume ellipsoid (described by the matrix $A$ and vector $b$) that covers a finite set of points $\\{x_i\\}_{i=1}^n$ in $\\mathbb{R}^2$.  The MVE can be found by solving\n",
        "\n",
        "$$\\begin{array}{cl} \\text{maximize} & \\log(\\det(A))\\\\\n",
        "\\text{subject to} & \\|A x_i + b\\| \\le 1, \\quad i=1,...,n.\n",
        "\\end{array}$$\n",
        "\n",
        "To allow CVXPY to see that the problem conforms to the DCP ruleset, we should use the function `cvx.log_det(A)` instead of something like `log(det(A))`."
      ]
    },
    {
      "cell_type": "code",
      "metadata": {
        "scrolled": false,
        "id": "EkfmIu20Uks7",
        "outputId": "ef55b55a-c161-4a9c-9e3d-5020515b4a2d",
        "colab": {
          "base_uri": "https://localhost:8080/",
          "height": 295
        }
      },
      "source": [
        "# Generate some data\n",
        "np.random.seed(271828) # solver='CVXOPT' reaches max_iters\n",
        "m = 2; n = 50\n",
        "x = np.random.randn(m,n)\n",
        "\n",
        "# A = cvx.Variable(2,2)  # This is old notation, doesn't work anymore\n",
        "A = cvx.Variable((2,2))\n",
        "b = cvx.Variable(2)\n",
        "obj = cvx.Maximize(cvx.log_det(A))\n",
        "# constraints = [ cvx.norm(A*x[:,i] + b) <= 1 for i in range(n) ]\n",
        "constraints = [ cvx.norm(A@x[:,i] + b) <= 1 for i in range(n) ]\n",
        "\n",
        "prob = cvx.Problem(obj, constraints)\n",
        "#prob.solve(solver='CVXOPT', verbose=True) # progress stalls\n",
        "#prob.solve(solver='CVXOPT', kktsolver='robust', verbose=True) # progress still stalls\n",
        "prob.solve(solver='SCS', verbose=False) # seems to work, although it's not super accurate\n",
        "\n",
        "# plot the ellipse and data\n",
        "angles = np.linspace(0, 2*np.pi, 200)\n",
        "rhs = np.row_stack((np.cos(angles) - b.value[0], np.sin(angles) - b.value[1]))\n",
        "ellipse = np.linalg.solve(A.value, rhs)\n",
        "\n",
        "plt.scatter(x[0,:], x[1,:])\n",
        "plt.plot(ellipse[0,:].T, ellipse[1,:].T)\n",
        "plt.xlabel('Dimension 1'); plt.ylabel('Dimension 2')\n",
        "plt.title('Minimum Volume Ellipsoid')\n",
        "plt.show()"
      ],
      "execution_count": 13,
      "outputs": [
        {
          "output_type": "display_data",
          "data": {
            "text/plain": [
              "<Figure size 432x288 with 1 Axes>"
            ],
            "image/png": "[encoded data removed]"
          },
          "metadata": {
            "needs_background": "light"
          }
        }
      ]
    }
  ]
}