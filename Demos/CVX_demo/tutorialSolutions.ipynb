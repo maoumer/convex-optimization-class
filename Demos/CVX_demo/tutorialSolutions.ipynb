{
  "nbformat": 4,
  "nbformat_minor": 0,
  "metadata": {
    "colab": {
      "name": "cvxpy_exercises.ipynb",
      "provenance": [],
      "authorship_tag": "ABX9TyMxQxouEbJQf4558KGS0mmn",
      "include_colab_link": true
    },
    "kernelspec": {
      "name": "python3",
      "display_name": "Python 3"
    }
  },
  "cells": [
    {
      "cell_type": "markdown",
      "metadata": {
        "id": "view-in-github",
        "colab_type": "text"
      },
      "source": [
        "<a href=\"https://colab.research.google.com/github/stephenbeckr/convex-optimization-class/blob/master/Demos/CVX_demo/tutorialSolutions.ipynb\" target=\"_parent\"><img src=\"https://colab.research.google.com/assets/colab-badge.svg\" alt=\"Open In Colab\"/></a>"
      ]
    },
    {
      "cell_type": "markdown",
      "metadata": {
        "id": "dxUdk5JPmJXM"
      },
      "source": [
        "# Python solutions for `cvxpy` exercise\n",
        "\n",
        "You can see what's in the output of `prob` by doing `vars(prob.solver_stats)`\n",
        "\n",
        "The default solver depends on what kind of problem you're solving, but it's often `ECOS`.  See [advanced cvxpy settings](https://www.cvxpy.org/tutorial/advanced/index.html#setting-solver-options) for how to change accuracy options.  For `ECOS` the relevant options are `abstol` and `reltol` (defaults are 1e-8).\n",
        "\n",
        "This notebook is for [https://github.com/stephenbeckr/convex-optimization-class/tree/master/Demos/CVX_demo](https://github.com/stephenbeckr/convex-optimization-class/tree/master/Demos/CVX_demo)"
      ]
    },
    {
      "cell_type": "code",
      "metadata": {
        "colab": {
          "base_uri": "https://localhost:8080/"
        },
        "id": "8C8_3-FWjUEE",
        "outputId": "1a55d4f6-7737-41ce-b5dd-82aacd3203c3"
      },
      "source": [
        "import numpy as np # np.array (and used internally in cvxpy)\n",
        "import cvxpy as cvx\n",
        "import sys\n",
        "\n",
        "print(\"Using CVX version\", cvx.__version__)\n",
        "print(\" and python version\", sys.version)\n",
        "\n",
        "A = np.array([[1, 6,11, 5,10, 4, 9, 3, 8, 2],\n",
        "              [2, 7, 1, 6,11, 5,10, 4, 9, 3],\n",
        "              [3, 8, 2, 7, 1, 6,11, 5,10, 4],\n",
        "              [4, 9, 3, 8, 2, 7, 1, 6,11, 5],\n",
        "              [5,10, 4, 9, 3, 8, 2, 7, 1, 6]])\n",
        "\n",
        "# or a slicker way to create A\n",
        "A = np.tile( np.arange(1,12), 5 )[:-5].reshape((5,-1),order='F')\n",
        "# Use np.tile( a, 5 ) or np.concatenate( (a,a,a,a,a) )\n",
        "# then remove last 5 elements (want 50 elements, not 55), then reshape:\n",
        "# \"Both the numpy.reshape() and numpy.resize() methods are used to change the \n",
        "#  size of a NumPy array. The difference between them is that the reshape() \n",
        "#  does not changes the original array but only returns the changed array, \n",
        "#  whereas the resize() method returns nothing and directly changes the original array.\"\n",
        "#\n",
        "# And either use Fortran order 'F' or theh default 'C' order but make it size (10,5) and then transpose that.\n",
        "\n",
        "\n",
        "print(A.shape)\n",
        "\n",
        "y = np.array([1,2,3,4,5])     # size (5,)  [preferred]\n",
        "# y = np.array([[1,2,3,4,5]]).T # size (5,1)  [may lead to bugs if you don't use y.flatten() later]\n",
        "print(y.shape)\n",
        "\n",
        "tol = 1e-12\n",
        "\n",
        "def print_status(prob, x):\n",
        "   print(\"Problem status: \", prob.status);\n",
        "   print(\"Used the solver: \", \n",
        "         prob.solver_stats.solver_name, \"with\", \n",
        "         prob.solver_stats.num_iters, \"iterations.\")\n",
        "   print(\"Optimal value:  \", prob.value)\n",
        "   print(\"Optimal var:\\n\", x.value)"
      ],
      "execution_count": 19,
      "outputs": [
        {
          "output_type": "stream",
          "name": "stdout",
          "text": [
            "Using CVX version 1.2.3\n",
            " and python version 3.8.10 (default, Nov 14 2022, 12:59:47) \n",
            "[GCC 9.4.0]\n",
            "(5, 10)\n",
            "(5,)\n"
          ]
        }
      ]
    },
    {
      "cell_type": "code",
      "source": [],
      "metadata": {
        "id": "VYfpSL4HgBDe"
      },
      "execution_count": null,
      "outputs": []
    },
    {
      "cell_type": "markdown",
      "metadata": {
        "id": "z-XOXRpzkbDN"
      },
      "source": [
        "## Problem 1"
      ]
    },
    {
      "cell_type": "code",
      "metadata": {
        "colab": {
          "base_uri": "https://localhost:8080/"
        },
        "id": "Yvz89_0XkUte",
        "outputId": "ba9758c3-b70b-4f9d-b9bd-668155cd6dd9"
      },
      "source": [
        "x = cvx.Variable(10) # column vector with 10 elements\n",
        "\n",
        "obj = cvx.Minimize(cvx.norm(x)) # cvx.norm defaults to the 2-norm\n",
        "#constraints = [cvx.norm(A*x-y) <= 0.1] # specify a list of constraints\n",
        "constraints = [cvx.norm(A@x-y) <= 0.1] # New syntax\n",
        "\n",
        "prob = cvx.Problem(obj, constraints)\n",
        "prob.solve(abstol=tol,reltol=tol)\n",
        "\n",
        "print_status(prob, x)"
      ],
      "execution_count": 20,
      "outputs": [
        {
          "output_type": "stream",
          "name": "stdout",
          "text": [
            "Problem status:  optimal\n",
            "Used the solver:  ECOS with 12 iterations.\n",
            "Optimal value:   0.29421647681590957\n",
            "Optimal var:\n",
            " [ 0.08864833  0.13978232 -0.03833681  0.12955552 -0.04299758  0.11932872\n",
            " -0.04291765  0.10910192 -0.03608032  0.09887512]\n"
          ]
        }
      ]
    },
    {
      "cell_type": "markdown",
      "metadata": {
        "id": "fTemw-9hkhSw"
      },
      "source": [
        "## Problem 2"
      ]
    },
    {
      "cell_type": "code",
      "metadata": {
        "colab": {
          "base_uri": "https://localhost:8080/"
        },
        "id": "vsHsYCmmkd8c",
        "outputId": "3e9329cd-5757-4797-e720-4ec65c11e8a6"
      },
      "source": [
        "x = cvx.Variable(10)\n",
        "\n",
        "obj = cvx.Minimize(cvx.norm(x)**2) # cvxpy objects implement the standard python ops\n",
        "constraints = [cvx.norm(A@x-y) <= 0.1]\n",
        "\n",
        "prob = cvx.Problem(obj, constraints)\n",
        "prob.solve(abstol=tol,reltol=tol)\n",
        "\n",
        "print_status(prob, x)"
      ],
      "execution_count": 12,
      "outputs": [
        {
          "output_type": "stream",
          "name": "stdout",
          "text": [
            "Problem status:  optimal\n",
            "Used the solver:  ECOS with 12 iterations.\n",
            "Optimal value:   0.08656333523007033\n",
            "Optimal var:\n",
            " [ 0.08864833  0.13978232 -0.03833684  0.12955552 -0.04299756  0.11932872\n",
            " -0.04291762  0.10910192 -0.03608035  0.09887512]\n"
          ]
        }
      ]
    },
    {
      "cell_type": "markdown",
      "metadata": {
        "id": "T5uIve4Eki5m"
      },
      "source": [
        "## Problem 3"
      ]
    },
    {
      "cell_type": "code",
      "metadata": {
        "colab": {
          "base_uri": "https://localhost:8080/"
        },
        "id": "VBuF8BzLkjpb",
        "outputId": "94758318-9a2a-43f2-84a7-76622bd1ac3a"
      },
      "source": [
        "x = cvx.Variable(10)\n",
        "\n",
        "obj = cvx.Minimize(cvx.norm(x, p=1))\n",
        "constraints = [cvx.norm(A@x-y) <= 0.1]\n",
        "\n",
        "prob = cvx.Problem(obj, constraints)\n",
        "prob.solve(abstol=tol,reltol=tol)\n",
        "\n",
        "print_status(prob, x)"
      ],
      "execution_count": 11,
      "outputs": [
        {
          "output_type": "stream",
          "name": "stdout",
          "text": [
            "Problem status:  optimal\n",
            "Used the solver:  ECOS with 11 iterations.\n",
            "Optimal value:   0.7876692193983347\n",
            "Optimal var:\n",
            " [ 2.86980950e-14  5.51546207e-01 -5.62016863e-02  2.34152027e-13\n",
            " -6.22342549e-02  8.99424944e-14 -6.22342549e-02  5.32847508e-14\n",
            " -5.54528157e-02  3.74707520e-14]\n"
          ]
        }
      ]
    },
    {
      "cell_type": "markdown",
      "metadata": {
        "id": "jsalednzkkGm"
      },
      "source": [
        "## Problem 4"
      ]
    },
    {
      "cell_type": "code",
      "metadata": {
        "colab": {
          "base_uri": "https://localhost:8080/"
        },
        "id": "12VOGeGikk8i",
        "outputId": "d7f5d2ae-5ac7-4c21-ec2d-2660c2d3c165"
      },
      "source": [
        "def get_problem1_dual_value():\n",
        "  obj = cvx.Minimize(cvx.norm(x))\n",
        "  constraints = [cvx.norm(A@x-y) <= 0.1]\n",
        "\n",
        "  prob = cvx.Problem(obj, constraints)\n",
        "  prob.solve(abstol=tol,reltol=tol)\n",
        "  \n",
        "  return constraints[0].dual_value\n",
        "\n",
        "x = cvx.Variable(10)\n",
        "\n",
        "# resolve problem 1 and return dual value for the constraint\n",
        "l = get_problem1_dual_value()\n",
        "print(\"dual variable: \", l)\n",
        "\n",
        "obj = cvx.Minimize(cvx.norm(x) + l*cvx.norm(A@x-y))\n",
        "\n",
        "prob = cvx.Problem(obj)\n",
        "prob.solve(abstol=tol,reltol=tol)\n",
        "\n",
        "# note that the solution is the same, but the optimal value is different,\n",
        "# since for problem 1 we form the Lagrangian \\|x\\|_2 + \\lambda(\\|Ax-y\\|_2-0.1)\n",
        "print_status(prob, x)\n",
        "\n",
        "# the optimal value for problem 1 should be\n",
        "print(\"problem 1 optimal value: \", prob.value - 0.1*l)"
      ],
      "execution_count": 10,
      "outputs": [
        {
          "output_type": "stream",
          "name": "stdout",
          "text": [
            "dual variable:  0.07086588504529695\n",
            "Problem status:  optimal\n",
            "Used the solver:  ECOS with 10 iterations.\n",
            "Optimal value:   0.3013030653204442\n",
            "Optimal var:\n",
            " [ 0.08864831  0.1397823  -0.03833679  0.1295555  -0.04299758  0.11932871\n",
            " -0.04291765  0.10910191 -0.03608028  0.09887511]\n",
            "problem 1 optimal value:  0.2942164768159145\n"
          ]
        }
      ]
    },
    {
      "cell_type": "markdown",
      "metadata": {
        "id": "T2yYxSGQklW6"
      },
      "source": [
        "## Problem 5"
      ]
    },
    {
      "cell_type": "code",
      "metadata": {
        "colab": {
          "base_uri": "https://localhost:8080/"
        },
        "id": "qeMGApcukl_T",
        "outputId": "02c062e4-d3dc-448d-a2b0-a851d171184f"
      },
      "source": [
        "# x = cvx.Variable(5)  # we need to make this an explicit column vector\n",
        "x = cvx.Variable((5,1))\n",
        "ones = np.ones((10,1))\n",
        "\n",
        "obj = cvx.Minimize(sum(cvx.norm(A-x@ones.T, axis=0))) # cvx.norm behaves like np.linalg.norm\n",
        "\n",
        "prob = cvx.Problem(obj)\n",
        "prob.solve(abstol=tol,reltol=tol)\n",
        "\n",
        "print_status(prob, x)"
      ],
      "execution_count": 9,
      "outputs": [
        {
          "output_type": "stream",
          "name": "stdout",
          "text": [
            "Problem status:  optimal\n",
            "Used the solver:  ECOS with 15 iterations.\n",
            "Optimal value:   63.95513865824419\n",
            "Optimal var:\n",
            " [[4.53758566]\n",
            " [5.0590677 ]\n",
            " [5.64345808]\n",
            " [6.23527782]\n",
            " [6.78794077]]\n"
          ]
        }
      ]
    },
    {
      "cell_type": "markdown",
      "metadata": {
        "id": "XnIKl53DkmhS"
      },
      "source": [
        "## Problem 6"
      ]
    },
    {
      "cell_type": "code",
      "metadata": {
        "colab": {
          "base_uri": "https://localhost:8080/"
        },
        "id": "my4pO3nzknRs",
        "outputId": "806f5612-21c4-44cb-b450-3411b5fab7d9"
      },
      "source": [
        "x = cvx.Variable((5,1)) # again, be careful here\n",
        "ones = np.ones((10,1))\n",
        "\n",
        "obj = cvx.Minimize(cvx.norm(A-x@ones.T))\n",
        "\n",
        "prob = cvx.Problem(obj)\n",
        "# ECOS solver won't solve this kind of thing. SCS is the new default\n",
        "prob.solve(verbose=False,eps=tol) # ~1e-7 duality gap, but CVXOPT gets a singular KKT system\n",
        "print_status(prob, x)\n",
        "prob.solve(verbose=False, solver='CVXOPT', kktsolver='robust')\n",
        "print_status(prob, x)"
      ],
      "execution_count": 8,
      "outputs": [
        {
          "output_type": "stream",
          "name": "stdout",
          "text": [
            "Problem status:  optimal\n",
            "Used the solver:  SCS with 250 iterations.\n",
            "Optimal value:   14.392200222565954\n",
            "Optimal var:\n",
            " [[5.90000493]\n",
            " [5.80000174]\n",
            " [5.7000011 ]\n",
            " [5.60000385]\n",
            " [5.5000082 ]]\n",
            "Problem status:  optimal\n",
            "Used the solver:  CVXOPT with None iterations.\n",
            "Optimal value:   14.392200222565956\n",
            "Optimal var:\n",
            " [[5.9]\n",
            " [5.8]\n",
            " [5.7]\n",
            " [5.6]\n",
            " [5.5]]\n"
          ]
        }
      ]
    },
    {
      "cell_type": "markdown",
      "metadata": {
        "id": "7vZ7N_Dtknot"
      },
      "source": [
        "## Problem 7"
      ]
    },
    {
      "cell_type": "code",
      "metadata": {
        "colab": {
          "base_uri": "https://localhost:8080/"
        },
        "id": "1v3aO2dZkoX8",
        "outputId": "2a70de86-df04-4a70-bb05-ccd9fddff94f"
      },
      "source": [
        "# X = cvx.Variable(5,10) # old syntax\n",
        "X = cvx.Variable((5,10))\n",
        "\n",
        "obj = cvx.Minimize(cvx.norm(X-A, 'fro'))\n",
        "constraints = [ np.ones((5,)).T@X@np.ones((10,)) == 1. ]\n",
        "\n",
        "prob = cvx.Problem(obj, constraints)\n",
        "prob.solve()\n",
        "\n",
        "print_status(prob, X)"
      ],
      "execution_count": 7,
      "outputs": [
        {
          "output_type": "stream",
          "name": "stdout",
          "text": [
            "Problem status:  optimal\n",
            "Used the solver:  ECOS with 5 iterations.\n",
            "Optimal value:   40.16366517140502\n",
            "Optimal var:\n",
            " [[-4.67999426  0.31999963  5.31999352 -0.67999914  4.31999475 -1.67999792\n",
            "   3.31999597 -2.6799967   2.31999719 -3.67999548]\n",
            " [-3.67999548  1.31999841 -4.67999426  0.31999963  5.31999352 -0.67999914\n",
            "   4.31999475 -1.67999792  3.31999597 -2.6799967 ]\n",
            " [-2.6799967   2.31999719 -3.67999548  1.31999841 -4.67999426  0.31999963\n",
            "   5.31999352 -0.67999914  4.31999475 -1.67999792]\n",
            " [-1.67999792  3.31999597 -2.6799967   2.31999719 -3.67999548  1.31999841\n",
            "  -4.67999426  0.31999963  5.31999352 -0.67999914]\n",
            " [-0.67999914  4.31999475 -1.67999792  3.31999597 -2.6799967   2.31999719\n",
            "  -3.67999548  1.31999841 -4.67999426  0.31999963]]\n"
          ]
        }
      ]
    },
    {
      "cell_type": "markdown",
      "metadata": {
        "id": "yzTu84MvkowG"
      },
      "source": [
        "## Problem 8"
      ]
    },
    {
      "cell_type": "code",
      "metadata": {
        "colab": {
          "base_uri": "https://localhost:8080/"
        },
        "id": "BaTkkpU-kpeU",
        "outputId": "4fe7cd81-4cd9-4eac-ea17-d185454b0436"
      },
      "source": [
        "B = A[:,0:5]\n",
        "X = cvx.Variable((5,5)) # could use Semidef or Symmetric here instead\n",
        "\n",
        "obj = cvx.Minimize(cvx.norm(X-B, 'fro'))\n",
        "constraints = [ X == X.T, X >> 0 ] # X is PSD\n",
        "\n",
        "prob = cvx.Problem(obj, constraints)\n",
        "prob.solve()\n",
        "\n",
        "print_status(prob, X)"
      ],
      "execution_count": 6,
      "outputs": [
        {
          "output_type": "stream",
          "name": "stdout",
          "text": [
            "Problem status:  optimal\n",
            "Used the solver:  SCS with 50 iterations.\n",
            "Optimal value:   14.435946533119205\n",
            "Optimal var:\n",
            " [[4.64375748 5.21368245 4.26848539 4.75864117 4.86465025]\n",
            " [5.21368243 9.09234036 4.13923569 7.10383591 7.80302294]\n",
            " [4.26848537 4.13923571 4.22624558 4.64923409 3.88386332]\n",
            " [4.75864117 7.10383592 4.64923408 8.15616309 5.83270695]\n",
            " [4.86465023 7.80302294 3.88386333 5.83270697 6.8664761 ]]\n"
          ]
        }
      ]
    }
  ]
}