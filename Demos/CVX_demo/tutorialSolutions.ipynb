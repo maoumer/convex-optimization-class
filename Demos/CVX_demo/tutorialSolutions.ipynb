{
  "nbformat": 4,
  "nbformat_minor": 0,
  "metadata": {
    "colab": {
      "name": "cvxpy_exercises.ipynb",
      "provenance": [],
      "authorship_tag": "ABX9TyN7FfTSgRRarZ96iY685uKD",
      "include_colab_link": true
    },
    "kernelspec": {
      "name": "python3",
      "display_name": "Python 3"
    }
  },
  "cells": [
    {
      "cell_type": "markdown",
      "metadata": {
        "id": "view-in-github",
        "colab_type": "text"
      },
      "source": [
        "<a href=\"https://colab.research.google.com/github/stephenbeckr/convex-optimization-class/blob/master/Demos/CVX_demo/tutorialSolutions.ipynb\" target=\"_parent\"><img src=\"https://colab.research.google.com/assets/colab-badge.svg\" alt=\"Open In Colab\"/></a>"
      ]
    },
    {
      "cell_type": "markdown",
      "metadata": {
        "id": "dxUdk5JPmJXM"
      },
      "source": [
        "# Python solutions for `cvxpy` exercise\n",
        "\n",
        "You can see what's in the output of `prob` by doing `vars(prob.solver_stats)`\n",
        "\n",
        "The default solver depends on what kind of problem you're solving, but it's often `ECOS`.  See [advanced cvxpy settings](https://www.cvxpy.org/tutorial/advanced/index.html#setting-solver-options) for how to change accuracy options.  For `ECOS` the relevant options are `abstol` and `reltol` (defaults are 1e-8).\n",
        "\n",
        "This notebook is for [https://github.com/stephenbeckr/convex-optimization-class/tree/master/Demos/CVX_demo](https://github.com/stephenbeckr/convex-optimization-class/tree/master/Demos/CVX_demo)"
      ]
    },
    {
      "cell_type": "code",
      "metadata": {
        "colab": {
          "base_uri": "https://localhost:8080/"
        },
        "id": "8C8_3-FWjUEE",
        "outputId": "22ab366b-bd5d-4c39-fabd-e3ed0622611a"
      },
      "source": [
        "import numpy as np # np.array (and used internally in cvxpy)\n",
        "import cvxpy as cvx\n",
        "import sys\n",
        "\n",
        "print(\"Using CVX version\", cvx.__version__)\n",
        "print(\" and python version\", sys.version)\n",
        "\n",
        "A = np.array([[1, 6,11, 5,10, 4, 9, 3, 8, 2],\n",
        "              [2, 7, 1, 6,11, 5,10, 4, 9, 3],\n",
        "              [3, 8, 2, 7, 1, 6,11, 5,10, 4],\n",
        "              [4, 9, 3, 8, 2, 7, 1, 6,11, 5],\n",
        "              [5,10, 4, 9, 3, 8, 2, 7, 1, 6]])\n",
        "\n",
        "y = np.array([1,2,3,4,5]).T\n",
        "\n",
        "tol = 1e-12\n",
        "\n",
        "def print_status(prob, x):\n",
        "   print(\"Problem status: \", prob.status);\n",
        "   print(\"Used the solver: \", \n",
        "         prob.solver_stats.solver_name, \"with\", \n",
        "         prob.solver_stats.num_iters, \"iterations.\")\n",
        "   print(\"Optimal value:  \", prob.value)\n",
        "   print(\"Optimal var:\\n\", x.value)"
      ],
      "execution_count": 56,
      "outputs": [
        {
          "output_type": "stream",
          "text": [
            "Using CVX version 1.0.31\n",
            " and python version 3.6.9 (default, Oct  8 2020, 12:12:24) \n",
            "[GCC 8.4.0]\n"
          ],
          "name": "stdout"
        }
      ]
    },
    {
      "cell_type": "markdown",
      "metadata": {
        "id": "z-XOXRpzkbDN"
      },
      "source": [
        "## Problem 1"
      ]
    },
    {
      "cell_type": "code",
      "metadata": {
        "colab": {
          "base_uri": "https://localhost:8080/"
        },
        "id": "Yvz89_0XkUte",
        "outputId": "7536229d-1b0b-40de-9fac-d4a237419190"
      },
      "source": [
        "x = cvx.Variable(10) # column vector with 10 elements\n",
        "\n",
        "obj = cvx.Minimize(cvx.norm(x)) # cvx.norm defaults to the 2-norm\n",
        "constraints = [cvx.norm(A*x-y) <= 0.1] # specify a list of constraints\n",
        "\n",
        "prob = cvx.Problem(obj, constraints)\n",
        "prob.solve(abstol=tol,reltol=tol)\n",
        "\n",
        "print_status(prob, x)"
      ],
      "execution_count": 31,
      "outputs": [
        {
          "output_type": "stream",
          "text": [
            "Problem status:  optimal\n",
            "Used the solver:  ECOS with 12 iterations.\n",
            "Optimal value:   0.2942164768158885\n",
            "Optimal var:\n",
            " [ 0.08864833  0.13978232 -0.03833681  0.12955552 -0.04299758  0.11932872\n",
            " -0.04291765  0.10910192 -0.03608032  0.09887512]\n"
          ],
          "name": "stdout"
        }
      ]
    },
    {
      "cell_type": "markdown",
      "metadata": {
        "id": "fTemw-9hkhSw"
      },
      "source": [
        "## Problem 2"
      ]
    },
    {
      "cell_type": "code",
      "metadata": {
        "colab": {
          "base_uri": "https://localhost:8080/"
        },
        "id": "vsHsYCmmkd8c",
        "outputId": "47b71a47-0842-43a1-b343-8d09e404166f"
      },
      "source": [
        "x = cvx.Variable(10)\n",
        "\n",
        "obj = cvx.Minimize(cvx.norm(x)**2) # cvxpy objects implement the standard python ops\n",
        "constraints = [cvx.norm(A*x-y) <= 0.1]\n",
        "\n",
        "prob = cvx.Problem(obj, constraints)\n",
        "prob.solve(abstol=tol,reltol=tol)\n",
        "\n",
        "print_status(prob, x)"
      ],
      "execution_count": 33,
      "outputs": [
        {
          "output_type": "stream",
          "text": [
            "Problem status:  optimal\n",
            "Used the solver:  ECOS with 12 iterations.\n",
            "Optimal value:   0.08656333522989969\n",
            "Optimal var:\n",
            " [ 0.08864833  0.13978232 -0.03833684  0.12955552 -0.04299756  0.11932872\n",
            " -0.04291762  0.10910192 -0.03608035  0.09887512]\n"
          ],
          "name": "stdout"
        }
      ]
    },
    {
      "cell_type": "markdown",
      "metadata": {
        "id": "T5uIve4Eki5m"
      },
      "source": [
        "## Problem 3"
      ]
    },
    {
      "cell_type": "code",
      "metadata": {
        "colab": {
          "base_uri": "https://localhost:8080/"
        },
        "id": "VBuF8BzLkjpb",
        "outputId": "b2a35c4a-f8a3-48a0-fefa-5bb8c7f85256"
      },
      "source": [
        "x = cvx.Variable(10)\n",
        "\n",
        "obj = cvx.Minimize(cvx.norm(x, p=1))\n",
        "constraints = [cvx.norm(A*x-y) <= 0.1]\n",
        "\n",
        "prob = cvx.Problem(obj, constraints)\n",
        "prob.solve(abstol=tol,reltol=tol)\n",
        "\n",
        "print_status(prob, x)"
      ],
      "execution_count": 35,
      "outputs": [
        {
          "output_type": "stream",
          "text": [
            "Problem status:  optimal\n",
            "Used the solver:  ECOS with 11 iterations.\n",
            "Optimal value:   0.7876692193982971\n",
            "Optimal var:\n",
            " [ 2.86980950e-14  5.51546207e-01 -5.62016863e-02  2.34152027e-13\n",
            " -6.22342549e-02  8.99424944e-14 -6.22342549e-02  5.32847508e-14\n",
            " -5.54528157e-02  3.74707520e-14]\n"
          ],
          "name": "stdout"
        }
      ]
    },
    {
      "cell_type": "markdown",
      "metadata": {
        "id": "jsalednzkkGm"
      },
      "source": [
        "## Problem 4"
      ]
    },
    {
      "cell_type": "code",
      "metadata": {
        "colab": {
          "base_uri": "https://localhost:8080/"
        },
        "id": "12VOGeGikk8i",
        "outputId": "369d976b-6f68-4201-b433-0d7ddbea46f8"
      },
      "source": [
        "def get_problem1_dual_value():\n",
        "  obj = cvx.Minimize(cvx.norm(x))\n",
        "  constraints = [cvx.norm(A*x-y) <= 0.1]\n",
        "\n",
        "  prob = cvx.Problem(obj, constraints)\n",
        "  prob.solve(abstol=tol,reltol=tol)\n",
        "  \n",
        "  return constraints[0].dual_value\n",
        "\n",
        "x = cvx.Variable(10)\n",
        "\n",
        "# resolve problem 1 and return dual value for the constraint\n",
        "l = get_problem1_dual_value()\n",
        "print(\"dual variable: \", l)\n",
        "\n",
        "obj = cvx.Minimize(cvx.norm(x) + l*cvx.norm(A*x-y))\n",
        "\n",
        "prob = cvx.Problem(obj)\n",
        "prob.solve(abstol=tol,reltol=tol)\n",
        "\n",
        "# note that the solution is the same, but the optimal value is different,\n",
        "# since for problem 1 we form the Lagrangian \\|x\\|_2 + \\lambda(\\|Ax-y\\|_2-0.1)\n",
        "print_status(prob, x)\n",
        "\n",
        "# the optimal value for problem 1 should be\n",
        "print(\"problem 1 optimal value: \", prob.value - 0.1*l)"
      ],
      "execution_count": 38,
      "outputs": [
        {
          "output_type": "stream",
          "text": [
            "dual variable:  0.07086588504529695\n",
            "Problem status:  optimal\n",
            "Used the solver:  ECOS with 10 iterations.\n",
            "Optimal value:   0.3013030653202569\n",
            "Optimal var:\n",
            " [ 0.08864831  0.1397823  -0.03833679  0.1295555  -0.04299758  0.11932871\n",
            " -0.04291765  0.10910191 -0.03608028  0.09887511]\n",
            "problem 1 optimal value:  0.2942164768157272\n"
          ],
          "name": "stdout"
        }
      ]
    },
    {
      "cell_type": "markdown",
      "metadata": {
        "id": "T2yYxSGQklW6"
      },
      "source": [
        "## Problem 5"
      ]
    },
    {
      "cell_type": "code",
      "metadata": {
        "colab": {
          "base_uri": "https://localhost:8080/"
        },
        "id": "qeMGApcukl_T",
        "outputId": "60b2bfcd-cf7c-400d-a504-2ad2042e6878"
      },
      "source": [
        "# x = cvx.Variable(5)  # we need to make this an explicit column vector\n",
        "x = cvx.Variable((5,1))\n",
        "ones = np.ones((10,1))\n",
        "\n",
        "obj = cvx.Minimize(sum(cvx.norm(A-x@ones.T, axis=0))) # cvx.norm behaves like np.linalg.norm\n",
        "\n",
        "prob = cvx.Problem(obj)\n",
        "prob.solve(abstol=tol,reltol=tol)\n",
        "\n",
        "print_status(prob, x)"
      ],
      "execution_count": 40,
      "outputs": [
        {
          "output_type": "stream",
          "text": [
            "Problem status:  optimal\n",
            "Used the solver:  ECOS with 15 iterations.\n",
            "Optimal value:   63.95513865824523\n",
            "Optimal var:\n",
            " [[4.53758566]\n",
            " [5.0590677 ]\n",
            " [5.64345808]\n",
            " [6.23527782]\n",
            " [6.78794077]]\n"
          ],
          "name": "stdout"
        }
      ]
    },
    {
      "cell_type": "markdown",
      "metadata": {
        "id": "XnIKl53DkmhS"
      },
      "source": [
        "## Problem 6"
      ]
    },
    {
      "cell_type": "code",
      "metadata": {
        "colab": {
          "base_uri": "https://localhost:8080/"
        },
        "id": "my4pO3nzknRs",
        "outputId": "08f7a380-63a0-4fac-b4ad-6f9f2900d728"
      },
      "source": [
        "x = cvx.Variable((5,1)) # again, be careful here\n",
        "ones = np.ones((10,1))\n",
        "\n",
        "obj = cvx.Minimize(cvx.norm(A-x*ones.T))\n",
        "\n",
        "prob = cvx.Problem(obj)\n",
        "# ECOS solver won't solve this kind of thing. SCS is the new default\n",
        "prob.solve(verbose=False,eps=tol) # ~1e-7 duality gap, but CVXOPT gets a singular KKT system\n",
        "print_status(prob, x)\n",
        "prob.solve(verbose=False, solver='CVXOPT', kktsolver='robust')\n",
        "print_status(prob, x)"
      ],
      "execution_count": 51,
      "outputs": [
        {
          "output_type": "stream",
          "text": [
            "Problem status:  optimal\n",
            "Used the solver:  SCS with 221 iterations.\n",
            "Optimal value:   14.392200222548352\n",
            "Optimal var:\n",
            " [[5.90534845]\n",
            " [5.79946083]\n",
            " [5.69654806]\n",
            " [5.59838801]\n",
            " [5.50500124]]\n",
            "Problem status:  optimal\n",
            "Used the solver:  CVXOPT with None iterations.\n",
            "Optimal value:   14.392200216477523\n",
            "Optimal var:\n",
            " [[5.9       ]\n",
            " [5.79999997]\n",
            " [5.69999998]\n",
            " [5.59999995]\n",
            " [5.49999996]]\n"
          ],
          "name": "stdout"
        }
      ]
    },
    {
      "cell_type": "markdown",
      "metadata": {
        "id": "7vZ7N_Dtknot"
      },
      "source": [
        "## Problem 7"
      ]
    },
    {
      "cell_type": "code",
      "metadata": {
        "colab": {
          "base_uri": "https://localhost:8080/"
        },
        "id": "1v3aO2dZkoX8",
        "outputId": "59ea3d7c-6224-450d-cf81-48ad2f19f649"
      },
      "source": [
        "# X = cvx.Variable(5,10) # old syntax\n",
        "X = cvx.Variable((5,10))\n",
        "\n",
        "obj = cvx.Minimize(cvx.norm(X-A, 'fro'))\n",
        "constraints = [ np.ones((5,)).T*X*np.ones((10,)) == 1. ]\n",
        "\n",
        "prob = cvx.Problem(obj, constraints)\n",
        "prob.solve()\n",
        "\n",
        "print_status(prob, X)"
      ],
      "execution_count": 53,
      "outputs": [
        {
          "output_type": "stream",
          "text": [
            "Problem status:  optimal\n",
            "Used the solver:  ECOS with 5 iterations.\n",
            "Optimal value:   40.16366509797013\n",
            "Optimal var:\n",
            " [[-4.67999426  0.31999963  5.31999352 -0.67999914  4.31999475 -1.67999792\n",
            "   3.31999597 -2.6799967   2.31999719 -3.67999548]\n",
            " [-3.67999548  1.31999841 -4.67999426  0.31999963  5.31999352 -0.67999914\n",
            "   4.31999475 -1.67999792  3.31999597 -2.6799967 ]\n",
            " [-2.6799967   2.31999719 -3.67999548  1.31999841 -4.67999426  0.31999963\n",
            "   5.31999352 -0.67999914  4.31999475 -1.67999792]\n",
            " [-1.67999792  3.31999597 -2.6799967   2.31999719 -3.67999548  1.31999841\n",
            "  -4.67999426  0.31999963  5.31999352 -0.67999914]\n",
            " [-0.67999914  4.31999475 -1.67999792  3.31999597 -2.6799967   2.31999719\n",
            "  -3.67999548  1.31999841 -4.67999426  0.31999963]]\n"
          ],
          "name": "stdout"
        }
      ]
    },
    {
      "cell_type": "markdown",
      "metadata": {
        "id": "yzTu84MvkowG"
      },
      "source": [
        "## Problem 8"
      ]
    },
    {
      "cell_type": "code",
      "metadata": {
        "id": "BaTkkpU-kpeU"
      },
      "source": [
        "B = A[:,0:5]\n",
        "X = cvx.Variable(5,5) # could use Semidef or Symmetric here instead\n",
        "\n",
        "obj = cvx.Minimize(cvx.norm(X-B, 'fro'))\n",
        "constraints = [ X == X.T, X >> 0 ] # X is PSD\n",
        "\n",
        "prob = cvx.Problem(obj, constraints)\n",
        "prob.solve()\n",
        "\n",
        "print_status(prob, X)"
      ],
      "execution_count": null,
      "outputs": []
    }
  ]
}