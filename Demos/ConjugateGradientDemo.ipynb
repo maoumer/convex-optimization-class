{
  "nbformat": 4,
  "nbformat_minor": 0,
  "metadata": {
    "colab": {
      "name": "ConjugateGradientDemo.ipynb",
      "provenance": [],
      "authorship_tag": "ABX9TyO+moImO5fiyR7qN0MN4vC3",
      "include_colab_link": true
    },
    "kernelspec": {
      "name": "python3",
      "display_name": "Python 3"
    },
    "language_info": {
      "name": "python"
    }
  },
  "cells": [
    {
      "cell_type": "markdown",
      "metadata": {
        "id": "view-in-github",
        "colab_type": "text"
      },
      "source": [
        "<a href=\"https://colab.research.google.com/github/stephenbeckr/convex-optimization-class/blob/master/Demos/ConjugateGradientDemo.ipynb\" target=\"_parent\"><img src=\"https://colab.research.google.com/assets/colab-badge.svg\" alt=\"Open In Colab\"/></a>"
      ]
    },
    {
      "cell_type": "markdown",
      "metadata": {
        "id": "TzW6NAQhkG47"
      },
      "source": [
        "# Conjugate Gradient\n",
        "... and related Krylov subspace methods\n",
        "\n",
        "For solving $Ax=b$ and related problems (e.g., least-squares).  Use Krylov subspace methods if all of the following criteria are met:\n",
        "1. $A$ is very large (let $A$ be $n\\times n$)\n",
        "2. The multiply $Ax$ can be done faster than $O(n^2)$, e.g.\n",
        "  - $A$ is very sparse\n",
        "  - $A$ if from a fast operator, like a FFT\n",
        "3. $A$ is somewhat well-conditioned\n",
        "\n",
        "Just how large, or how well-conditioned, or how sparse depends, and there's no simple answer (other than just try it)\n",
        "\n",
        "APPM 5630 Advanced Convex Optimization, Spring 2021, Becker"
      ]
    },
    {
      "cell_type": "code",
      "metadata": {
        "id": "4GhhaeVOdh-1"
      },
      "source": [
        "import numpy as np\n",
        "import scipy.sparse as sps\n",
        "import scipy.sparse.linalg\n",
        "import scipy.linalg as linalg\n",
        "from numpy.linalg import norm\n",
        "import time"
      ],
      "execution_count": 50,
      "outputs": []
    },
    {
      "cell_type": "code",
      "metadata": {
        "colab": {
          "base_uri": "https://localhost:8080/"
        },
        "id": "YKl0JhHmeC51",
        "outputId": "ddef17e6-ced2-4019-e2ec-b5251de82919"
      },
      "source": [
        "n   = int(1e1)\n",
        "\n",
        "rng   = np.random.default_rng()\n",
        "# Make sure A is invertrible by adding identity to it\n",
        "A   = sps.random(n,n,density=0.1,format='csr') + .1*sps.eye(n)\n",
        "b   = rng.normal(size=(n,1))\n",
        "\n",
        "print('condition number is', np.linalg.cond( A.toarray() ) )\n"
      ],
      "execution_count": 65,
      "outputs": [
        {
          "output_type": "stream",
          "text": [
            "condition number is 124.04128581497764\n"
          ],
          "name": "stdout"
        }
      ]
    },
    {
      "cell_type": "code",
      "metadata": {
        "colab": {
          "base_uri": "https://localhost:8080/"
        },
        "id": "uExB8e1jeJED",
        "outputId": "a2cf1572-1b64-4f19-eade-b91a7c888d42"
      },
      "source": [
        "A"
      ],
      "execution_count": 24,
      "outputs": [
        {
          "output_type": "execute_result",
          "data": {
            "text/plain": [
              "<10x10 sparse matrix of type '<class 'numpy.float64'>'\n",
              "\twith 19 stored elements in Compressed Sparse Row format>"
            ]
          },
          "metadata": {
            "tags": []
          },
          "execution_count": 24
        }
      ]
    },
    {
      "cell_type": "code",
      "metadata": {
        "colab": {
          "base_uri": "https://localhost:8080/"
        },
        "id": "3auEcJdreLEq",
        "outputId": "f270595f-a7b2-4b17-89ed-3861db970749"
      },
      "source": [
        "A.toarray()"
      ],
      "execution_count": 25,
      "outputs": [
        {
          "output_type": "execute_result",
          "data": {
            "text/plain": [
              "array([[0.20235633, 0.        , 0.        , 0.        , 0.        ,\n",
              "        0.41103886, 0.        , 0.        , 0.        , 0.        ],\n",
              "       [0.        , 0.01      , 0.        , 0.8839626 , 0.        ,\n",
              "        0.        , 0.        , 0.        , 0.        , 0.        ],\n",
              "       [0.68334671, 0.        , 0.01      , 0.        , 0.35071518,\n",
              "        0.        , 0.        , 0.        , 0.        , 0.        ],\n",
              "       [0.        , 0.        , 0.        , 0.01      , 0.        ,\n",
              "        0.        , 0.        , 0.        , 0.        , 0.        ],\n",
              "       [0.        , 0.        , 0.        , 0.        , 0.01      ,\n",
              "        0.        , 0.        , 0.53032062, 0.        , 0.        ],\n",
              "       [0.        , 0.        , 0.        , 0.        , 0.        ,\n",
              "        0.01      , 0.        , 0.        , 0.        , 0.        ],\n",
              "       [0.        , 0.        , 0.        , 0.        , 0.85850859,\n",
              "        0.69137976, 0.01      , 0.        , 0.        , 0.        ],\n",
              "       [0.        , 0.        , 0.        , 0.        , 0.        ,\n",
              "        0.        , 0.        , 0.01      , 0.        , 0.        ],\n",
              "       [0.62498373, 0.        , 0.        , 0.83856191, 0.        ,\n",
              "        0.        , 0.        , 0.        , 0.01      , 0.        ],\n",
              "       [0.        , 0.        , 0.        , 0.        , 0.        ,\n",
              "        0.        , 0.        , 0.        , 0.        , 0.01      ]])"
            ]
          },
          "metadata": {
            "tags": []
          },
          "execution_count": 25
        }
      ]
    },
    {
      "cell_type": "code",
      "metadata": {
        "colab": {
          "base_uri": "https://localhost:8080/"
        },
        "id": "fuiyWxzteSna",
        "outputId": "56d51b3e-adf9-40aa-b12b-5a921582100b"
      },
      "source": [
        "x = linalg.solve(A.toarray(),b)\n",
        "# xCG = sps.linalg.spsolve(A,b)\n",
        "# xCG, info = sps.linalg.minres(A,b,maxiter=1000) # no, A must be symmetric\n",
        "def lsqr(A,b):\n",
        "  x,_,_,_,_,_,_,_,_,_ = sps.linalg.lsqr(A,b)\n",
        "  return x\n",
        "xCG = lsqr(A,b)\n",
        "norm(x.ravel()-xCG.ravel())"
      ],
      "execution_count": 77,
      "outputs": [
        {
          "output_type": "execute_result",
          "data": {
            "text/plain": [
              "1.4566525418517067e-08"
            ]
          },
          "metadata": {
            "tags": []
          },
          "execution_count": 77
        }
      ]
    },
    {
      "cell_type": "markdown",
      "metadata": {
        "id": "ujlC5sjchAce"
      },
      "source": [
        "# Larger example"
      ]
    },
    {
      "cell_type": "code",
      "metadata": {
        "colab": {
          "base_uri": "https://localhost:8080/"
        },
        "id": "6wefUZYyf6Yf",
        "outputId": "00f25e02-d92c-4873-ab8d-f54498a790cb"
      },
      "source": [
        "n   = int(5e3)\n",
        "rng   = np.random.default_rng()\n",
        "A   = sps.random(n,n,density=0.01,format='csr') + 10*sps.eye(n)\n",
        "b   = rng.normal(size=(n,1))\n",
        "\n",
        "print(\"Doing dense version\")\n",
        "tic = time.perf_counter()\n",
        "x = linalg.solve(A.toarray(),b)\n",
        "toc_dense = time.perf_counter() - tic\n",
        "\n",
        "print('Now doing sparse version')\n",
        "tic = time.perf_counter()\n",
        "# xCG = sps.linalg.spsolve(A,b) # This is very slow! not recommended\n",
        "xCG = lsqr(A,b) # nice and fast\n",
        "toc_sparse = time.perf_counter() - tic\n",
        "\n",
        "e = norm(x.ravel()-xCG.ravel())\n",
        "print(f\"n x n matrix with n={n:d}\")\n",
        "print(f\"Took {toc_dense:.1f} sec for dense version (Gaussian elimination...)\")\n",
        "print(f\"Took {toc_sparse:.1f} sec for sparse version (CG, LSQR, ...)\")\n",
        "print(f\"Difference between versions {e:.1e}\")"
      ],
      "execution_count": 80,
      "outputs": [
        {
          "output_type": "stream",
          "text": [
            "Doing dense version\n",
            "Now doing sparse version\n",
            "n x n matrix with n=5000\n",
            "Took 3.2 sec for dense version (Gaussian elimination...)\n",
            "Took 0.0 sec for sparse version (CG, LSQR, ...)\n",
            "Difference between versions 6.8e-07\n"
          ],
          "name": "stdout"
        }
      ]
    },
    {
      "cell_type": "code",
      "metadata": {
        "id": "y-mJz97ghqJ-"
      },
      "source": [
        ""
      ],
      "execution_count": null,
      "outputs": []
    }
  ]
}