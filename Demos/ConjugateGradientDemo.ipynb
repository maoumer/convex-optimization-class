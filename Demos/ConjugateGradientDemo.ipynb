{
  "nbformat": 4,
  "nbformat_minor": 0,
  "metadata": {
    "colab": {
      "name": "ConjugateGradientDemo.ipynb",
      "provenance": [],
      "authorship_tag": "ABX9TyMwPzbxcdcReuNSq/uZ60D+",
      "include_colab_link": true
    },
    "kernelspec": {
      "name": "python3",
      "display_name": "Python 3"
    },
    "language_info": {
      "name": "python"
    }
  },
  "cells": [
    {
      "cell_type": "markdown",
      "metadata": {
        "id": "view-in-github",
        "colab_type": "text"
      },
      "source": [
        "<a href=\"https://colab.research.google.com/github/stephenbeckr/convex-optimization-class/blob/master/Demos/ConjugateGradientDemo.ipynb\" target=\"_parent\"><img src=\"https://colab.research.google.com/assets/colab-badge.svg\" alt=\"Open In Colab\"/></a>"
      ]
    },
    {
      "cell_type": "markdown",
      "metadata": {
        "id": "TzW6NAQhkG47"
      },
      "source": [
        "# Conjugate Gradient\n",
        "... and related Krylov subspace methods\n",
        "\n",
        "For solving $Ax=b$ and related problems (e.g., least-squares).  Use Krylov subspace methods if all of the following criteria are met:\n",
        "1. $A$ is very large (let $A$ be $n\\times n$)\n",
        "2. The multiply $Ax$ can be done faster than $O(n^2)$, e.g.\n",
        "  - $A$ is very sparse\n",
        "  - $A$ if from a fast operator, like a FFT\n",
        "3. $A$ is somewhat well-conditioned\n",
        "\n",
        "Just how large, or how well-conditioned, or how sparse depends, and there's no simple answer (other than just try it)\n",
        "\n",
        "APPM 5630 Advanced Convex Optimization, Spring 2023, Becker"
      ]
    },
    {
      "cell_type": "code",
      "metadata": {
        "id": "4GhhaeVOdh-1"
      },
      "source": [
        "import numpy as np\n",
        "import scipy.sparse as sps\n",
        "import scipy.sparse.linalg\n",
        "import scipy.linalg as linalg\n",
        "from numpy.linalg import norm\n",
        "import time"
      ],
      "execution_count": 15,
      "outputs": []
    },
    {
      "cell_type": "markdown",
      "source": [
        "Create a sparse $10\\times 10$ matrix"
      ],
      "metadata": {
        "id": "-aYTSTNIAZt1"
      }
    },
    {
      "cell_type": "code",
      "metadata": {
        "colab": {
          "base_uri": "https://localhost:8080/"
        },
        "id": "YKl0JhHmeC51",
        "outputId": "b7d10fdb-7f1e-4d85-a2fb-8a63f5a200f1"
      },
      "source": [
        "n   = int(1e1)\n",
        "\n",
        "rng   = np.random.default_rng(1)\n",
        "# Make sure A is invertrible by adding identity to it\n",
        "A   = sps.random(n,n,density=0.1,format='csr',random_state=rng) + .1*sps.eye(n)\n",
        "# A   = sps.random(n,n,density=0.1,format='csr') + .01*sps.eye(n) # worst conditioned, LSQR/CG struggles\n",
        "b   = rng.normal(size=(n,1))\n",
        "\n",
        "print(f'condition number is {np.linalg.cond( A.toarray() ):.1f}' )\n"
      ],
      "execution_count": 16,
      "outputs": [
        {
          "output_type": "stream",
          "name": "stdout",
          "text": [
            "condition number is 211.6\n"
          ]
        }
      ]
    },
    {
      "cell_type": "code",
      "metadata": {
        "colab": {
          "base_uri": "https://localhost:8080/"
        },
        "id": "uExB8e1jeJED",
        "outputId": "2945af81-afcf-4848-8372-293e2714392f"
      },
      "source": [
        "A"
      ],
      "execution_count": 17,
      "outputs": [
        {
          "output_type": "execute_result",
          "data": {
            "text/plain": [
              "<10x10 sparse matrix of type '<class 'numpy.float64'>'\n",
              "\twith 20 stored elements in Compressed Sparse Row format>"
            ]
          },
          "metadata": {},
          "execution_count": 17
        }
      ]
    },
    {
      "cell_type": "code",
      "metadata": {
        "colab": {
          "base_uri": "https://localhost:8080/"
        },
        "id": "3auEcJdreLEq",
        "outputId": "7387748d-6bb5-4ad8-a1eb-28eea05552f1"
      },
      "source": [
        "with np.printoptions(precision=3, suppress=True):\n",
        "  print( A.toarray() )"
      ],
      "execution_count": 18,
      "outputs": [
        {
          "output_type": "stream",
          "name": "stdout",
          "text": [
            "[[0.1   0.    0.    0.    0.    0.    0.    0.403 0.    0.   ]\n",
            " [0.    0.1   0.    0.754 0.    0.    0.    0.    0.    0.   ]\n",
            " [0.    0.    0.1   0.    0.    0.    0.    0.    0.    0.303]\n",
            " [0.788 0.134 0.    0.1   0.538 0.    0.    0.    0.    0.   ]\n",
            " [0.    0.    0.262 0.    0.1   0.    0.    0.    0.    0.   ]\n",
            " [0.    0.    0.    0.    0.    0.1   0.    0.    0.    0.   ]\n",
            " [0.    0.    0.    0.    0.    0.    0.1   0.    0.    0.   ]\n",
            " [0.    0.    0.    0.    0.453 0.    0.    0.1   0.    0.   ]\n",
            " [0.    0.    0.    0.    0.    0.    0.    0.    0.1   0.   ]\n",
            " [0.    0.    0.    0.    0.    0.    0.    0.33  0.203 0.1  ]]\n"
          ]
        }
      ]
    },
    {
      "cell_type": "code",
      "metadata": {
        "colab": {
          "base_uri": "https://localhost:8080/"
        },
        "id": "fuiyWxzteSna",
        "outputId": "63430280-d8e8-4427-b9f5-faf457f9124e"
      },
      "source": [
        "x = linalg.solve(A.toarray(),b) # Dense solve\n",
        "# xCG = sps.linalg.spsolve(A,b)   # Direct solve, taking advantage of sparsity\n",
        "# xCG, info = sps.linalg.minres(A,b,maxiter=1000) # only if A is symmetric\n",
        "# xCG = sps.linalg.lsqr(A,b,atol=1e-12,btol=1e-12,iter_lim=int(1e5))[0]\n",
        "xCG = sps.linalg.lsqr(A,b)[0]\n",
        "print(f\"Discrepancy in the two solutions is {norm(x.ravel()-xCG.ravel()):.2e}\")\n",
        "\n",
        "# If it's ill-conditioned, the two \"x\" may not be similar, but check\n",
        "#  that the residual is small:\n",
        "print(f\"Residual ||Ax-b|| for dense solve is {norm(A@x-b):.2e}, and is {norm(A@xCG-b.ravel()):.2e} for LSQR/CG\")"
      ],
      "execution_count": 19,
      "outputs": [
        {
          "output_type": "stream",
          "name": "stdout",
          "text": [
            "Discrepancy in the two solutions is 3.36e-05\n",
            "Residual ||Ax-b|| for dense solve is 1.24e-15, and is 3.43e-05 for LSQR/CG\n"
          ]
        }
      ]
    },
    {
      "cell_type": "code",
      "source": [
        "# Be careful with some bugs!\n",
        "print( norm( b - b) )\n",
        "print( norm( b - b.ravel() ) )"
      ],
      "metadata": {
        "id": "hrghQN_CDKtV",
        "outputId": "7c0511fa-84b3-4a9b-f2eb-adfe48bfc5aa",
        "colab": {
          "base_uri": "https://localhost:8080/"
        }
      },
      "execution_count": null,
      "outputs": [
        {
          "output_type": "stream",
          "name": "stdout",
          "text": [
            "0.0\n",
            "16.27126842092771\n"
          ]
        }
      ]
    },
    {
      "cell_type": "markdown",
      "metadata": {
        "id": "ujlC5sjchAce"
      },
      "source": [
        "# Larger example"
      ]
    },
    {
      "cell_type": "code",
      "metadata": {
        "colab": {
          "base_uri": "https://localhost:8080/"
        },
        "id": "6wefUZYyf6Yf",
        "outputId": "427cdc2e-0dbc-4f83-84a3-7613ce847529"
      },
      "source": [
        "n   = int(5e3)\n",
        "rng   = np.random.default_rng(1)\n",
        "A   = sps.random(n,n,density=0.01,format='csr',random_state=rng) + 10*sps.eye(n)\n",
        "b   = rng.normal(size=(n,1))\n",
        "\n",
        "print(\"Doing dense version\")\n",
        "tic = time.perf_counter()\n",
        "x = linalg.solve(A.toarray(),b)\n",
        "toc_dense = time.perf_counter() - tic\n",
        "\n",
        "print('Now doing sparse version')\n",
        "tic = time.perf_counter()\n",
        "# xCG = sps.linalg.spsolve(A,b) # This is very slow! not recommended\n",
        "xCG = sps.linalg.lsqr(A,b)[0] # nice and fast\n",
        "toc_sparse = time.perf_counter() - tic\n",
        "\n",
        "e = norm(x.ravel()-xCG.ravel())\n",
        "print(f\"n x n matrix with n={n:d}\")\n",
        "print(f\"Took {toc_dense:.2f} sec for dense version (Gaussian elimination...)\")\n",
        "print(f\"Took {toc_sparse:.2f} sec for sparse version (CG, LSQR, ...)\")\n",
        "print(f\"Difference between versions {e:.1e}\")"
      ],
      "execution_count": 20,
      "outputs": [
        {
          "output_type": "stream",
          "name": "stdout",
          "text": [
            "Doing dense version\n",
            "Now doing sparse version\n",
            "n x n matrix with n=5000\n",
            "Took 4.76 sec for dense version (Gaussian elimination...)\n",
            "Took 0.02 sec for sparse version (CG, LSQR, ...)\n",
            "Difference between versions 8.1e-05\n"
          ]
        }
      ]
    },
    {
      "cell_type": "code",
      "metadata": {
        "id": "y-mJz97ghqJ-"
      },
      "source": [],
      "execution_count": null,
      "outputs": []
    }
  ]
}